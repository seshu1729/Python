{
  "metadata": {
    "kernelspec": {
      "name": "python",
      "display_name": "Python (Pyodide)",
      "language": "python"
    },
    "language_info": {
      "codemirror_mode": {
        "name": "python",
        "version": 3
      },
      "file_extension": ".py",
      "mimetype": "text/x-python",
      "name": "python",
      "nbconvert_exporter": "python",
      "pygments_lexer": "ipython3",
      "version": "3.8"
    }
  },
  "nbformat_minor": 5,
  "nbformat": 4,
  "cells": [
    {
      "id": "ea3b3fba-96a6-491c-9e84-17db98d1dec1",
      "cell_type": "code",
      "source": "# Complete the function  f  so that it returns the product of a and b. Use the next cell to test the function.\n\ndef f(a, b):\n    return a*b",
      "metadata": {
        "tags": []
      },
      "outputs": [],
      "execution_count": 1
    },
    {
      "id": "3706f7ab-dd3d-4959-9baf-42ffd392bede",
      "cell_type": "code",
      "source": "a = 4\nb = 2\n\nif a*b == f(a, b):\n    print(\"Correct.\")\nelse:\n    print(\"Incorrect.\")",
      "metadata": {
        "tags": []
      },
      "outputs": [
        {
          "name": "stdout",
          "output_type": "stream",
          "text": [
            "Correct.\n"
          ]
        }
      ],
      "execution_count": 2
    },
    {
      "id": "99a405a0-0a0b-4250-a7b6-08adf5fc59e0",
      "cell_type": "code",
      "source": "# Complete the function g such that the input c is a list of integers and the output is the sum of all the elements in the list.\ndef g(c):\n    return sum(c)",
      "metadata": {
        "tags": []
      },
      "outputs": [],
      "execution_count": 3
    },
    {
      "id": "4d23e26f-722f-4d28-8651-ec14bc3ab199",
      "cell_type": "code",
      "source": "c = [1, 2, 3, 4, 5]\n\nif sum(c) == g(c):\n    print(\"Correct.\")\nelse:\n    print(\"Incorrect.\")",
      "metadata": {
        "tags": []
      },
      "outputs": [
        {
          "name": "stdout",
          "output_type": "stream",
          "text": [
            "Correct.\n"
          ]
        }
      ],
      "execution_count": 4
    },
    {
      "id": "f2d4cc5f-41a8-48d2-9667-262497be4123",
      "cell_type": "code",
      "source": "# First function example: Add 1 to a and store as b\n\ndef add(a):\n    \"\"\"\n    add 1 to a\n    \"\"\"\n    b = a + 1\n    print(a, \"if you add one\", b)\n    return(b)",
      "metadata": {
        "trusted": true
      },
      "outputs": [],
      "execution_count": 1
    },
    {
      "id": "deb1ecd5-179e-4a14-b28a-acbfb24aaada",
      "cell_type": "code",
      "source": "# Get a help on add function\n\nhelp(add)",
      "metadata": {
        "trusted": true
      },
      "outputs": [
        {
          "name": "stdout",
          "text": "Help on function add in module __main__:\n\nadd(a)\n    add 1 to a\n\n",
          "output_type": "stream"
        }
      ],
      "execution_count": 2
    },
    {
      "id": "6a925978-5c20-4133-9070-7c863ea6542e",
      "cell_type": "code",
      "source": "# Call the function add()\n\nadd(1)",
      "metadata": {
        "trusted": true
      },
      "outputs": [
        {
          "name": "stdout",
          "text": "1 if you add one 2\n",
          "output_type": "stream"
        },
        {
          "execution_count": 3,
          "output_type": "execute_result",
          "data": {
            "text/plain": "2"
          },
          "metadata": {}
        }
      ],
      "execution_count": 3
    },
    {
      "id": "131b6177-070c-4149-90bd-3c99ab4f2c9a",
      "cell_type": "code",
      "source": "# Call the function add()\n\nadd(2)",
      "metadata": {
        "trusted": true
      },
      "outputs": [
        {
          "name": "stdout",
          "text": "2 if you add one 3\n",
          "output_type": "stream"
        },
        {
          "execution_count": 4,
          "output_type": "execute_result",
          "data": {
            "text/plain": "3"
          },
          "metadata": {}
        }
      ],
      "execution_count": 4
    },
    {
      "id": "821f7305-1ffa-4043-bbd4-903acf33e705",
      "cell_type": "code",
      "source": "# Define a function for multiple two numbers\n\ndef Mult(a, b):\n    c = a * b\n    return(c)\n    print('This is not printed')\n    \nresult = Mult(12,2)\nprint(result)",
      "metadata": {
        "trusted": true
      },
      "outputs": [
        {
          "name": "stdout",
          "text": "24\n",
          "output_type": "stream"
        }
      ],
      "execution_count": 5
    },
    {
      "id": "44cffd23-f6d8-4df4-8a04-bee69028377a",
      "cell_type": "code",
      "source": "# Use mult() multiply two integers\n\nMult(2, 3)",
      "metadata": {
        "trusted": true
      },
      "outputs": [
        {
          "execution_count": 6,
          "output_type": "execute_result",
          "data": {
            "text/plain": "6"
          },
          "metadata": {}
        }
      ],
      "execution_count": 6
    },
    {
      "id": "4c3754c6-3818-41cc-8fb0-6f97f3ef1e33",
      "cell_type": "code",
      "source": "# Use mult() multiply two floats\n\nMult(10.0, 3.14)",
      "metadata": {
        "trusted": true
      },
      "outputs": [
        {
          "execution_count": 7,
          "output_type": "execute_result",
          "data": {
            "text/plain": "31.400000000000002"
          },
          "metadata": {}
        }
      ],
      "execution_count": 7
    },
    {
      "id": "3e467d17-4d81-42f3-9da8-a9a2e0df1832",
      "cell_type": "code",
      "source": "# Use mult() multiply two different type values together\n\nMult(2, \"The BodyGuard \")",
      "metadata": {
        "trusted": true
      },
      "outputs": [
        {
          "execution_count": 8,
          "output_type": "execute_result",
          "data": {
            "text/plain": "'The BodyGuard The BodyGuard '"
          },
          "metadata": {}
        }
      ],
      "execution_count": 8
    },
    {
      "id": "91a8ca8d-960e-40bc-8b05-43f309e780c2",
      "cell_type": "code",
      "source": "# Function Definition\n\ndef square(a):\n    # Local variable b\n    b = 1\n    c = a * a + b\n    print(a, \"if you square + 1\", c) \n    return(c)",
      "metadata": {
        "trusted": true
      },
      "outputs": [],
      "execution_count": 9
    },
    {
      "id": "e030c883-db90-4d7d-b668-96f1b6f8bc5d",
      "cell_type": "code",
      "source": "# Initializes Global variable\n\nx = 3\n# Makes function call and return function a y\ny = square(x)\ny",
      "metadata": {
        "trusted": true
      },
      "outputs": [
        {
          "name": "stdout",
          "text": "3 if you square + 1 10\n",
          "output_type": "stream"
        },
        {
          "execution_count": 10,
          "output_type": "execute_result",
          "data": {
            "text/plain": "10"
          },
          "metadata": {}
        }
      ],
      "execution_count": 10
    },
    {
      "id": "9f1330bd-84a3-4290-8f45-4e4520a055ce",
      "cell_type": "code",
      "source": "# Directly enter a number as parameter\n\nsquare(2)",
      "metadata": {
        "trusted": true
      },
      "outputs": [
        {
          "name": "stdout",
          "text": "2 if you square + 1 5\n",
          "output_type": "stream"
        },
        {
          "execution_count": 11,
          "output_type": "execute_result",
          "data": {
            "text/plain": "5"
          },
          "metadata": {}
        }
      ],
      "execution_count": 11
    },
    {
      "id": "74013395-e4e6-4083-8e55-a7811c5c63fa",
      "cell_type": "code",
      "source": "# Define functions, one with return value None and other without return value\n\ndef MJ():\n    print('The BodyGuard')\n    \ndef MJ1():\n    print('The BodyGuard')\n    return(None)",
      "metadata": {
        "trusted": true
      },
      "outputs": [],
      "execution_count": 12
    },
    {
      "id": "8abb2ff3-d116-477e-a4b2-f47968d923e9",
      "cell_type": "code",
      "source": "# See the output\n\nMJ()",
      "metadata": {
        "trusted": true
      },
      "outputs": [
        {
          "name": "stdout",
          "text": "The BodyGuard\n",
          "output_type": "stream"
        }
      ],
      "execution_count": 13
    },
    {
      "id": "959a0744-8955-405d-ba86-e21b0507d43f",
      "cell_type": "code",
      "source": "# See the output\n\nMJ1()",
      "metadata": {
        "trusted": true
      },
      "outputs": [
        {
          "name": "stdout",
          "text": "The BodyGuard\n",
          "output_type": "stream"
        }
      ],
      "execution_count": 14
    },
    {
      "id": "c96575b9-2f94-4030-8230-f81cef0828b8",
      "cell_type": "code",
      "source": "# See what functions returns are\n\nprint(MJ())\nprint(MJ1())",
      "metadata": {
        "trusted": true
      },
      "outputs": [
        {
          "name": "stdout",
          "text": "The BodyGuard\nNone\nThe BodyGuard\nNone\n",
          "output_type": "stream"
        }
      ],
      "execution_count": 15
    },
    {
      "id": "49542224-a31b-4fb1-b5d2-9fa2509fca32",
      "cell_type": "code",
      "source": "# Define the function for combining strings\n\ndef con(a, b):\n    return(a + b)",
      "metadata": {
        "trusted": true
      },
      "outputs": [],
      "execution_count": 16
    },
    {
      "id": "d36c6c98-cb57-435a-92a4-aa7c44af5d46",
      "cell_type": "code",
      "source": "# Test on the con() function\n\ncon(\"This \", \"is\")",
      "metadata": {
        "trusted": true
      },
      "outputs": [
        {
          "execution_count": 17,
          "output_type": "execute_result",
          "data": {
            "text/plain": "'This is'"
          },
          "metadata": {}
        }
      ],
      "execution_count": 17
    },
    {
      "id": "ae945b95-b920-4a30-9de6-bd274ed2150c",
      "cell_type": "code",
      "source": "# a and b calculation block1\n\na1 = 4\nb1 = 5\nc1 = a1 + b1 + 2 * a1 * b1 - 1\nif(c1 < 0):\n    c1 = 0 \nelse:\n    c1 = 5\nc1   ",
      "metadata": {
        "trusted": true
      },
      "outputs": [
        {
          "execution_count": 18,
          "output_type": "execute_result",
          "data": {
            "text/plain": "5"
          },
          "metadata": {}
        }
      ],
      "execution_count": 18
    },
    {
      "id": "b5db8ace-5161-4021-9238-85b6508ae935",
      "cell_type": "code",
      "source": "# a and b calculation block2\n\na2 = 0\nb2 = 0\nc2 = a2 + b2 + 2 * a2 * b2 - 1\nif(c2 < 0):\n    c2 = 0 \nelse:\n    c2 = 5\nc2   ",
      "metadata": {
        "trusted": true
      },
      "outputs": [
        {
          "execution_count": 19,
          "output_type": "execute_result",
          "data": {
            "text/plain": "0"
          },
          "metadata": {}
        }
      ],
      "execution_count": 19
    },
    {
      "id": "13951ed1-7666-4cfc-908f-5f53ce9f7764",
      "cell_type": "code",
      "source": "# Make a Function for the calculation above\n\ndef Equation(a,b):\n    c = a + b + 2 * a * b - 1\n    if(c < 0):\n        c = 0 \n    else:\n        c = 5\n    return(c) ",
      "metadata": {
        "trusted": true
      },
      "outputs": [],
      "execution_count": 20
    },
    {
      "id": "841251b7-042a-4630-8ca5-1b298a383a1f",
      "cell_type": "code",
      "source": "a1 = 4\nb1 = 5\nc1 = Equation(a1, b1)\nc1",
      "metadata": {
        "trusted": true
      },
      "outputs": [
        {
          "execution_count": 21,
          "output_type": "execute_result",
          "data": {
            "text/plain": "5"
          },
          "metadata": {}
        }
      ],
      "execution_count": 21
    },
    {
      "id": "78530024-aa85-4294-8c8e-b31da523464c",
      "cell_type": "code",
      "source": "a2 = 0\nb2 = 0\nc2 = Equation(a2, b2)\nc2",
      "metadata": {
        "trusted": true
      },
      "outputs": [
        {
          "execution_count": 22,
          "output_type": "execute_result",
          "data": {
            "text/plain": "0"
          },
          "metadata": {}
        }
      ],
      "execution_count": 22
    },
    {
      "id": "58eae71b-940d-47f8-9fb0-1a76cd0875b5",
      "cell_type": "code",
      "source": "# Build-in function print()\n\nalbum_ratings = [10.0, 8.5, 9.5, 7.0, 7.0, 9.5, 9.0, 9.5] \nprint(album_ratings)",
      "metadata": {
        "trusted": true
      },
      "outputs": [
        {
          "name": "stdout",
          "text": "[10.0, 8.5, 9.5, 7.0, 7.0, 9.5, 9.0, 9.5]\n",
          "output_type": "stream"
        }
      ],
      "execution_count": 23
    },
    {
      "id": "dc116929-4973-4fb7-b743-5ad497fc3fd5",
      "cell_type": "code",
      "source": "# Use sum() to add every element in a list or tuple together\n\nsum(album_ratings)",
      "metadata": {
        "trusted": true
      },
      "outputs": [
        {
          "execution_count": 24,
          "output_type": "execute_result",
          "data": {
            "text/plain": "70.0"
          },
          "metadata": {}
        }
      ],
      "execution_count": 24
    },
    {
      "id": "2c1fb0c8-3a97-4047-b5c1-5d8d7f268acb",
      "cell_type": "code",
      "source": "# Show the length of the list or tuple\n\nlen(album_ratings)",
      "metadata": {
        "trusted": true
      },
      "outputs": [
        {
          "execution_count": 25,
          "output_type": "execute_result",
          "data": {
            "text/plain": "8"
          },
          "metadata": {}
        }
      ],
      "execution_count": 25
    },
    {
      "id": "843d47e9-bc0f-4a6e-9c2f-a2c1190e8d95",
      "cell_type": "code",
      "source": "#You will see below will return an error as integer alone is not considered while using a function.It either has to be in the form of tuple, list or a set.\n\nsum(1,2)",
      "metadata": {
        "trusted": true
      },
      "outputs": [
        {
          "ename": "<class 'TypeError'>",
          "evalue": "'int' object is not iterable",
          "traceback": [
            "\u001b[0;31m---------------------------------------------------------------------------\u001b[0m",
            "\u001b[0;31mTypeError\u001b[0m                                 Traceback (most recent call last)",
            "Cell \u001b[0;32mIn[26], line 3\u001b[0m\n\u001b[1;32m      1\u001b[0m \u001b[38;5;66;03m#You will see below will return an error as integer alone is not considered while using a function.It either has to be in the form of tuple, list or a set.\u001b[39;00m\n\u001b[0;32m----> 3\u001b[0m \u001b[38;5;28;43msum\u001b[39;49m\u001b[43m(\u001b[49m\u001b[38;5;241;43m1\u001b[39;49m\u001b[43m,\u001b[49m\u001b[38;5;241;43m2\u001b[39;49m\u001b[43m)\u001b[49m\n",
            "\u001b[0;31mTypeError\u001b[0m: 'int' object is not iterable"
          ],
          "output_type": "error"
        }
      ],
      "execution_count": 26
    },
    {
      "id": "d856ed1f-d8a6-4e62-8f39-dde590e30bb3",
      "cell_type": "code",
      "source": "# Define a tuple\na = (1, 2)\n\n# Pass the tuple to the sum function and store the result in a variable\nc = sum(a)\n\n# Print the result\nprint(f\"The sum of the elements in the tuple {a} is {c}.\")\n",
      "metadata": {
        "trusted": true
      },
      "outputs": [
        {
          "name": "stdout",
          "text": "The sum of the elements in the tuple (1, 2) is 3.\n",
          "output_type": "stream"
        }
      ],
      "execution_count": 27
    },
    {
      "id": "b2214af1-a733-4621-b445-4d202544134b",
      "cell_type": "code",
      "source": "sum((1,2))",
      "metadata": {
        "trusted": true
      },
      "outputs": [
        {
          "execution_count": 28,
          "output_type": "execute_result",
          "data": {
            "text/plain": "3"
          },
          "metadata": {}
        }
      ],
      "execution_count": 28
    },
    {
      "id": "2d744e32-8ee5-426d-acee-19e9d7fa47d1",
      "cell_type": "code",
      "source": "# Define a list\na = [1, 2]\n\n# Pass the list to the sum function and store the result in a variable\nc = sum(a)\n\n# Print the result\nprint(f\"The sum of the elements in the list {a} is {c}.\")\n",
      "metadata": {
        "trusted": true
      },
      "outputs": [
        {
          "name": "stdout",
          "text": "The sum of the elements in the list [1, 2] is 3.\n",
          "output_type": "stream"
        }
      ],
      "execution_count": 29
    },
    {
      "id": "950b1930-cbd3-4bfc-8bdc-d61ab7c880bf",
      "cell_type": "code",
      "source": "# Function example\n\ndef type_of_album(album, year_released):\n    \n    print(album, year_released)\n    if year_released > 1980:\n        return \"Modern\"\n    else:\n        return \"Oldie\"\n    \nx = type_of_album(\"The BodyGuard\", 1980)\nprint(x)",
      "metadata": {
        "trusted": true
      },
      "outputs": [
        {
          "name": "stdout",
          "text": "The BodyGuard 1980\nOldie\n",
          "output_type": "stream"
        }
      ],
      "execution_count": 30
    },
    {
      "id": "b0623fbb-3316-4b64-94fe-d1e1a0aac69a",
      "cell_type": "code",
      "source": "# Print the list using for loop\n\ndef PrintList(the_list):\n    for element in the_list:\n        print(element)",
      "metadata": {
        "trusted": true
      },
      "outputs": [],
      "execution_count": 31
    },
    {
      "id": "0c8da905-3689-47b5-a9f2-f9eb77f1ae84",
      "cell_type": "code",
      "source": "# Implement the printlist function\n\nPrintList(['1', 1, 'the man', \"abc\"])",
      "metadata": {
        "trusted": true
      },
      "outputs": [
        {
          "name": "stdout",
          "text": "1\n1\nthe man\nabc\n",
          "output_type": "stream"
        }
      ],
      "execution_count": 32
    },
    {
      "id": "5d75a7f9-7315-4a9f-bd43-b484decd3848",
      "cell_type": "code",
      "source": "#Compare Two Strings Directly using in operator\n# add string\nstring= \"The BodyGuard is the best album\"\n\n# Define a funtion\ndef check_string(text):\n    \n# Use if else statement and 'in' operatore to compare the string\n    if text in string:\n        return 'String matched'\n    else:\n        return 'String not matched'\n\ncheck_string(\"The BodyGuard is the best\")",
      "metadata": {
        "trusted": true
      },
      "outputs": [
        {
          "execution_count": 33,
          "output_type": "execute_result",
          "data": {
            "text/plain": "'String matched'"
          },
          "metadata": {}
        }
      ],
      "execution_count": 33
    },
    {
      "id": "3b83e7c8-1b7d-4cc5-9dcf-056671ee6bef",
      "cell_type": "code",
      "source": "#Compare two strings using == operator and function\ndef compareStrings(x, y):\n# Use if else statement to compare x and y\n    if x==y:\n        return 1\n    \n# Declare two different variables as string1 and string2 and pass string in it\nstring1 = \"The BodyGuard is the best album\"\nstring2 = \"The BodyGuard is the best album\"\n\n# Declare a variable to store result after comparing both the strings\ncheck = compareStrings(string1, string2)\n\n#Use if else statement to compare the string\nif check==1:\n    print(\"\\nString Matched\")\nelse:\n    print(\"\\nString not Matched\")",
      "metadata": {
        "trusted": true
      },
      "outputs": [
        {
          "name": "stdout",
          "text": "\nString Matched\n",
          "output_type": "stream"
        }
      ],
      "execution_count": 34
    },
    {
      "id": "9e620692-84c0-44f6-b5fe-10253c843f43",
      "cell_type": "code",
      "source": "# Python Program to Count words in a String using Dictionary\ndef freq(string):\n    \n    #step1: A list variable is declared and initialized to an empty list.\n    words = []\n    \n    #step2: Break the string into list of words\n    words = string.split() # or string.lower().split()\n    \n    #step3: Declare a dictionary\n    Dict = {}\n    \n    #step4: Use for loop to iterate words and values to the dictionary\n    for key in words:\n        Dict[key] = words.count(key)\n        \n    #step5: Print the dictionary\n    print(\"The Frequency of words is:\",Dict)\n    \n#step6: Call function and pass string in it\nfreq(\"Mary had a little lamb Little lamb, little lamb Mary had a little lamb.Its fleece was white as snow And everywhere that Mary went Mary went, Mary went \\\nEverywhere that Mary went The lamb was sure to go\")",
      "metadata": {
        "trusted": true
      },
      "outputs": [
        {
          "name": "stdout",
          "text": "The Frequency of words is: {'Mary': 6, 'had': 2, 'a': 2, 'little': 3, 'lamb': 3, 'Little': 1, 'lamb,': 1, 'lamb.Its': 1, 'fleece': 1, 'was': 2, 'white': 1, 'as': 1, 'snow': 1, 'And': 1, 'everywhere': 1, 'that': 2, 'went': 3, 'went,': 1, 'Everywhere': 1, 'The': 1, 'sure': 1, 'to': 1, 'go': 1}\n",
          "output_type": "stream"
        }
      ],
      "execution_count": 35
    },
    {
      "id": "e60de7a9-66b0-4553-b6a9-0d2f13b2e9bb",
      "cell_type": "code",
      "source": "words = \"Mary had a little lamb Little lamb, little lamb Mary had a little lamb.Its fleece was white as snow And everywhere that Mary went Mary went, Mary went \\\nEverywhere that Mary went The lamb was sure to go\".split()\nDict = {}\nfor key in words:\n    Dict[key] = words.count(key)\n\nprint(Dict)",
      "metadata": {
        "trusted": true
      },
      "outputs": [
        {
          "name": "stdout",
          "text": "{'Mary': 6, 'had': 2, 'a': 2, 'little': 3, 'lamb': 3, 'Little': 1, 'lamb,': 1, 'lamb.Its': 1, 'fleece': 1, 'was': 2, 'white': 1, 'as': 1, 'snow': 1, 'And': 1, 'everywhere': 1, 'that': 2, 'went': 3, 'went,': 1, 'Everywhere': 1, 'The': 1, 'sure': 1, 'to': 1, 'go': 1}\n",
          "output_type": "stream"
        }
      ],
      "execution_count": 40
    },
    {
      "id": "61e192c4-ee22-4753-95a5-8068400d6b83",
      "cell_type": "code",
      "source": "# Example for setting param with default value\n\ndef isGoodRating(rating=4): \n    if(rating < 7):\n        print(\"this album sucks it's rating is\",rating)\n        \n    else:\n        print(\"this album is good its rating is\",rating)\n",
      "metadata": {
        "trusted": true
      },
      "outputs": [],
      "execution_count": 42
    },
    {
      "id": "e6919840-1d12-4ff1-8b88-334ae659c95a",
      "cell_type": "code",
      "source": "# Test the value with default value and with input\n\nisGoodRating()\nisGoodRating(10)",
      "metadata": {
        "trusted": true
      },
      "outputs": [
        {
          "name": "stdout",
          "text": "this album sucks it's rating is 4\nthis album is good its rating is 10\n",
          "output_type": "stream"
        }
      ],
      "execution_count": 43
    },
    {
      "id": "70f5e565-71d1-4468-8c4e-24c3e66da33a",
      "cell_type": "code",
      "source": "# Example of global variable\n\nalbum = \"The BodyGuard\"\ndef printer1(album):\n    internal_var1 = \"Thriller\"\n    print(album, \"is an album\")\n    \nprinter1(album )",
      "metadata": {
        "trusted": true
      },
      "outputs": [
        {
          "name": "stdout",
          "text": "The BodyGuard is an album\n",
          "output_type": "stream"
        }
      ],
      "execution_count": 45
    },
    {
      "id": "93ab4a93-9c25-43c5-af3d-e18eed870028",
      "cell_type": "code",
      "source": "# try runningthe following code\nprinter1(internal_var1) \n\n# It's because all the variables we create in the function is a local variable, \n# meaning that the variable assignment does not persist outside the function.\n\n#But there is a way to create global variables from within a function as follows:",
      "metadata": {
        "trusted": true
      },
      "outputs": [
        {
          "ename": "<class 'NameError'>",
          "evalue": "name 'internal_var1' is not defined",
          "traceback": [
            "\u001b[0;31m---------------------------------------------------------------------------\u001b[0m",
            "\u001b[0;31mNameError\u001b[0m                                 Traceback (most recent call last)",
            "Cell \u001b[0;32mIn[47], line 2\u001b[0m\n\u001b[1;32m      1\u001b[0m \u001b[38;5;66;03m# try runningthe following code\u001b[39;00m\n\u001b[0;32m----> 2\u001b[0m printer1(\u001b[43minternal_var1\u001b[49m) \n\u001b[1;32m      4\u001b[0m \u001b[38;5;66;03m# It's because all the variables we create in the function is a local variable, \u001b[39;00m\n\u001b[1;32m      5\u001b[0m \u001b[38;5;66;03m# meaning that the variable assignment does not persist outside the function.\u001b[39;00m\n\u001b[1;32m      6\u001b[0m \n\u001b[1;32m      7\u001b[0m \u001b[38;5;66;03m#But there is a way to create global variables from within a function as follows:\u001b[39;00m\n",
            "\u001b[0;31mNameError\u001b[0m: name 'internal_var1' is not defined"
          ],
          "output_type": "error"
        }
      ],
      "execution_count": 47
    },
    {
      "id": "f94974a4-40a9-4578-b205-c8c2598cf3a6",
      "cell_type": "code",
      "source": "album = \"The BodyGuard\"\n\ndef printer(album):\n    global internal_var \n    internal_var= \"Thriller\"\n    print(album,\"is an album\")\n\nprinter(album) \nprinter(internal_var)",
      "metadata": {
        "trusted": true
      },
      "outputs": [
        {
          "name": "stdout",
          "text": "The BodyGuard is an album\nThriller is an album\n",
          "output_type": "stream"
        }
      ],
      "execution_count": 48
    },
    {
      "id": "7e8fef5f-3260-4f3e-8ab5-c291779b5e76",
      "cell_type": "code",
      "source": "# Example of global variable\n\nmyFavouriteBand = \"AC/DC\"\n\ndef getBandRating(bandname):\n    if bandname == myFavouriteBand:\n        return 10.0\n    else:\n        return 0.0\n\nprint(\"AC/DC's rating is:\", getBandRating(\"AC/DC\"))\nprint(\"Deep Purple's rating is:\",getBandRating(\"Deep Purple\"))\nprint(\"My favourite band is:\", myFavouriteBand)",
      "metadata": {
        "trusted": true
      },
      "outputs": [
        {
          "name": "stdout",
          "text": "AC/DC's rating is: 10.0\nDeep Purple's rating is: 0.0\nMy favourite band is: AC/DC\n",
          "output_type": "stream"
        }
      ],
      "execution_count": 52
    },
    {
      "id": "cc0ab84c-61bd-47e5-a57b-13339e55f121",
      "cell_type": "code",
      "source": "# Deleting the variable \"myFavouriteBand\" from the previous example to demonstrate an example of a local variable \n\ndel myFavouriteBand\n\n# Example of local variable\n\ndef getBandRating(bandname):\n    myFavouriteBand = \"AC/DC\"\n    if bandname == myFavouriteBand:\n        return 10.0\n    else:\n        return 0.0\n\nprint(\"AC/DC's rating is: \", getBandRating(\"AC/DC\"))\nprint(\"Deep Purple's rating is: \", getBandRating(\"Deep Purple\"))\nprint(\"My favourite band is\", myFavouriteBand)",
      "metadata": {
        "trusted": true
      },
      "outputs": [
        {
          "name": "stdout",
          "text": "AC/DC's rating is:  10.0\nDeep Purple's rating is:  0.0\n",
          "output_type": "stream"
        },
        {
          "ename": "<class 'NameError'>",
          "evalue": "name 'myFavouriteBand' is not defined",
          "traceback": [
            "\u001b[0;31m---------------------------------------------------------------------------\u001b[0m",
            "\u001b[0;31mNameError\u001b[0m                                 Traceback (most recent call last)",
            "Cell \u001b[0;32mIn[53], line 16\u001b[0m\n\u001b[1;32m     14\u001b[0m \u001b[38;5;28mprint\u001b[39m(\u001b[38;5;124m\"\u001b[39m\u001b[38;5;124mAC/DC\u001b[39m\u001b[38;5;124m'\u001b[39m\u001b[38;5;124ms rating is: \u001b[39m\u001b[38;5;124m\"\u001b[39m, getBandRating(\u001b[38;5;124m\"\u001b[39m\u001b[38;5;124mAC/DC\u001b[39m\u001b[38;5;124m\"\u001b[39m))\n\u001b[1;32m     15\u001b[0m \u001b[38;5;28mprint\u001b[39m(\u001b[38;5;124m\"\u001b[39m\u001b[38;5;124mDeep Purple\u001b[39m\u001b[38;5;124m'\u001b[39m\u001b[38;5;124ms rating is: \u001b[39m\u001b[38;5;124m\"\u001b[39m, getBandRating(\u001b[38;5;124m\"\u001b[39m\u001b[38;5;124mDeep Purple\u001b[39m\u001b[38;5;124m\"\u001b[39m))\n\u001b[0;32m---> 16\u001b[0m \u001b[38;5;28mprint\u001b[39m(\u001b[38;5;124m\"\u001b[39m\u001b[38;5;124mMy favourite band is\u001b[39m\u001b[38;5;124m\"\u001b[39m, \u001b[43mmyFavouriteBand\u001b[49m)\n",
            "\u001b[0;31mNameError\u001b[0m: name 'myFavouriteBand' is not defined"
          ],
          "output_type": "error"
        }
      ],
      "execution_count": 53
    },
    {
      "id": "1662f5a7-469d-423e-abec-9c4575b14c59",
      "cell_type": "code",
      "source": "# Example of global variable and local variable with the same name\n\nmyFavouriteBand = \"AC/DC\"\n\ndef getBandRating(bandname):\n    myFavouriteBand = \"Deep Purple\"\n    if bandname == myFavouriteBand:\n        return 10.0\n    else:\n        return 0.0\n\nprint(\"AC/DC's rating is:\", getBandRating(\"AC/DC\"))\nprint(\"Deep Purple's rating is: \", getBandRating(\"Deep Purple\"))\nprint(\"My favourite band is:\", myFavouriteBand)",
      "metadata": {
        "trusted": true
      },
      "outputs": [
        {
          "name": "stdout",
          "text": "AC/DC's rating is: 0.0\nDeep Purple's rating is:  10.0\nMy favourite band is: AC/DC\n",
          "output_type": "stream"
        }
      ],
      "execution_count": 54
    },
    {
      "id": "02bd8802-6b10-40ef-bed6-695c6d946ddf",
      "cell_type": "code",
      "source": "def printAll(*args): # All the arguments are 'packed' into args which can be treated like a tuple\n    print(\"No of arguments:\", len(args))\n    for argument in args:\n        print(argument)\n#printAll with 3 arguments\nprintAll('Horsefeather','Adonis','Bone')\n#printAll with 4 arguments\nprintAll('Sidecar','Long Island','Mudslide','Carriage')",
      "metadata": {
        "trusted": true
      },
      "outputs": [
        {
          "name": "stdout",
          "text": "No of arguments: 3\nHorsefeather\nAdonis\nBone\nNo of arguments: 4\nSidecar\nLong Island\nMudslide\nCarriage\n",
          "output_type": "stream"
        }
      ],
      "execution_count": 56
    },
    {
      "id": "8895b71c-3a8d-4de0-babd-0d69effe6444",
      "cell_type": "code",
      "source": "def printDictionary(**args):\n    for key in args:\n        print(key + \" : \" + args[key])\n\nprintDictionary(Country='Canada',Province='Ontario',City='Toronto')",
      "metadata": {
        "trusted": true
      },
      "outputs": [
        {
          "name": "stdout",
          "text": "Country : Canada\nProvince : Ontario\nCity : Toronto\n",
          "output_type": "stream"
        }
      ],
      "execution_count": 60
    },
    {
      "id": "9c34a93b-9a65-4da1-a701-494d482953d9",
      "cell_type": "code",
      "source": "def addItems(list):\n    list.append(\"Three\")\n    list.append(\"Four\")\n\nmyList = [\"One\",\"Two\"]\n\naddItems(myList)\n\nmyList",
      "metadata": {
        "trusted": true
      },
      "outputs": [
        {
          "execution_count": 61,
          "output_type": "execute_result",
          "data": {
            "text/plain": "['One', 'Two', 'Three', 'Four']"
          },
          "metadata": {}
        }
      ],
      "execution_count": 61
    },
    {
      "id": "4b0194b3-39fb-4bf3-b873-bb08701a8fea",
      "cell_type": "code",
      "source": "def div(a, b):\n    return(a/b)",
      "metadata": {
        "trusted": true
      },
      "outputs": [],
      "execution_count": 62
    },
    {
      "id": "a2f443b9-ba6a-44f0-9a49-aa08abe40ca8",
      "cell_type": "code",
      "source": "# Use the con function for the following question\n\ndef con(a, b):\n    return(a + b)",
      "metadata": {
        "trusted": true
      },
      "outputs": [],
      "execution_count": 63
    },
    {
      "id": "7046bbce-3713-4260-a6ba-ad1fbe49548b",
      "cell_type": "code",
      "source": "con(2,2)",
      "metadata": {
        "trusted": true
      },
      "outputs": [
        {
          "execution_count": 65,
          "output_type": "execute_result",
          "data": {
            "text/plain": "4"
          },
          "metadata": {}
        }
      ],
      "execution_count": 65
    },
    {
      "id": "2c28dc6c-8f71-4c1a-9ca1-df4ccb112a60",
      "cell_type": "code",
      "source": "con(['a', 1], ['b', 1])",
      "metadata": {
        "trusted": true
      },
      "outputs": [
        {
          "execution_count": 66,
          "output_type": "execute_result",
          "data": {
            "text/plain": "['a', 1, 'b', 1]"
          },
          "metadata": {}
        }
      ],
      "execution_count": 66
    },
    {
      "id": "4eb4b254-2ac7-4ce3-8b05-d5bb93304c49",
      "cell_type": "code",
      "source": "['a', 1] + ['b', 1] ",
      "metadata": {
        "trusted": true
      },
      "outputs": [
        {
          "execution_count": 67,
          "output_type": "execute_result",
          "data": {
            "text/plain": "['a', 1, 'b', 1]"
          },
          "metadata": {}
        }
      ],
      "execution_count": 67
    },
    {
      "id": "4c8c7907-2822-4130-9b2b-4a718b0a2656",
      "cell_type": "code",
      "source": "# Write a function code to find total count of word little in the given string: \n# \"Mary had a little lamb Little lamb, little lamb Mary had a little lamb.\n# Its fleece was white as snow And everywhere that Mary went Mary went, Mary went Everywhere that Mary went The lamb was sure to go\"",
      "metadata": {
        "trusted": true
      },
      "outputs": [],
      "execution_count": 68
    },
    {
      "id": "a0ca1d9f-6fdc-4cc1-ac33-e96c88e0e5df",
      "cell_type": "code",
      "source": "Dict = {}\nSentence = \"Mary had a little lamb Little lamb, little lamb Mary had a little lamb. Its fleece was white as snow And everywhere that Mary went Mary went, Mary went Everywhere that Mary went The lamb was sure to go\"\nWords = Sentence.split()\nfor key in words:\n    Dict[key] = words.count(key)\n\nprint(Dict['little'])",
      "metadata": {
        "trusted": true
      },
      "outputs": [
        {
          "name": "stdout",
          "text": "3\n",
          "output_type": "stream"
        }
      ],
      "execution_count": 73
    },
    {
      "id": "0b8dc080-d0f9-4470-a0e2-7853199268cc",
      "cell_type": "code",
      "source": "# Python Program to Count words in a String using Dictionary\ndef freq(string,passedkey):\n\n    #step1: A list variable is declared and initialized to an empty list.\n    words = []\n\n    #step2: Break the string into list of words\n    words = string.split() # or string.lower().split()\n\n    #step3: Declare a dictionary\n    Dict = {}\n\n    #step4: Use for loop to iterate words and values to the dictionary\n    for key in words:\n        if(key == passedkey):\n            Dict[key] = words.count(key)   \n    #step5: Print the dictionary\n    print(\"Total Count:\",Dict)\n\n#step6: Call function and pass string in it\nfreq(\"Mary had a little lamb Little lamb, little lamb Mary had a little lamb.Its fleece was white as snow And everywhere that Mary went Mary went, Mary went \\\nEverywhere that Mary went The lamb was sure to go\",\"little\")",
      "metadata": {
        "trusted": true
      },
      "outputs": [
        {
          "name": "stdout",
          "text": "Total Count: {'little': 3}\n",
          "output_type": "stream"
        }
      ],
      "execution_count": 74
    },
    {
      "id": "2755f0f4-8f9e-4cbb-a0fb-a33d6b798b3f",
      "cell_type": "code",
      "source": "",
      "metadata": {
        "trusted": true
      },
      "outputs": [],
      "execution_count": null
    }
  ]
}