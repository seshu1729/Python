{
  "metadata": {
    "kernelspec": {
      "name": "python",
      "display_name": "Python (Pyodide)",
      "language": "python"
    },
    "language_info": {
      "codemirror_mode": {
        "name": "python",
        "version": 3
      },
      "file_extension": ".py",
      "mimetype": "text/x-python",
      "name": "python",
      "nbconvert_exporter": "python",
      "pygments_lexer": "ipython3",
      "version": "3.8"
    }
  },
  "nbformat_minor": 5,
  "nbformat": 4,
  "cells": [
    {
      "id": "6410b965-b86f-4e7f-a25e-764706593537",
      "cell_type": "code",
      "source": "# Use For loops to print out the elements in the list A:\n\nA=[3,4,5]\nfor i in A:\n    print(i)",
      "metadata": {
        "tags": [],
        "trusted": true
      },
      "outputs": [
        {
          "name": "stdout",
          "text": "3\n4\n5\n",
          "output_type": "stream"
        }
      ],
      "execution_count": 1
    },
    {
      "id": "2d5a77e8-8322-4096-a1b2-4f938cf272c5",
      "cell_type": "code",
      "source": "# Find the value of  x  that will print out the sequence  1,2,..,10 :\n\nx = 11\ny = 1\nwhile y != x:\n    print(y)\n    y = y + 1",
      "metadata": {
        "tags": [],
        "trusted": true
      },
      "outputs": [
        {
          "name": "stdout",
          "text": "1\n2\n3\n4\n5\n6\n7\n8\n9\n10\n",
          "output_type": "stream"
        }
      ],
      "execution_count": 2
    },
    {
      "id": "4437583d-d139-416f-8c9f-024f48d6b7f6",
      "cell_type": "code",
      "source": "range(3)",
      "metadata": {
        "trusted": true
      },
      "outputs": [
        {
          "execution_count": 3,
          "output_type": "execute_result",
          "data": {
            "text/plain": "range(0, 3)"
          },
          "metadata": {}
        }
      ],
      "execution_count": 3
    },
    {
      "id": "fd2dc37f-3a6b-4110-b1db-7fbab5dfef3c",
      "cell_type": "code",
      "source": "# For loop example\n\ndates = [1982,1980,1973]\nN = len(dates)\n\nfor i in range(N):\n    print(dates[i])",
      "metadata": {
        "trusted": true
      },
      "outputs": [
        {
          "name": "stdout",
          "text": "1982\n1980\n1973\n",
          "output_type": "stream"
        }
      ],
      "execution_count": 4
    },
    {
      "id": "2b6e2b78-5716-4b24-8376-ba32421c272e",
      "cell_type": "code",
      "source": "for i in dates:\n    print(i)",
      "metadata": {
        "trusted": true
      },
      "outputs": [
        {
          "name": "stdout",
          "text": "1982\n1980\n1973\n",
          "output_type": "stream"
        }
      ],
      "execution_count": 5
    },
    {
      "id": "68ac6986-f11e-426d-b753-2aabba28906d",
      "cell_type": "code",
      "source": "# Exmaple of for loop, loop through list\n\nfor year in dates:  \n    print(year)   ",
      "metadata": {
        "trusted": true
      },
      "outputs": [
        {
          "name": "stdout",
          "text": "1982\n1980\n1973\n",
          "output_type": "stream"
        }
      ],
      "execution_count": 6
    },
    {
      "id": "08120356-3471-42e6-9b8a-dc0040296d20",
      "cell_type": "code",
      "source": "# Example of for loop\n\nfor i in range(0, 8):\n    print(i)",
      "metadata": {
        "trusted": true
      },
      "outputs": [
        {
          "name": "stdout",
          "text": "0\n1\n2\n3\n4\n5\n6\n7\n",
          "output_type": "stream"
        }
      ],
      "execution_count": 7
    },
    {
      "id": "0a41b120-4da5-43ab-b3e8-8efeac397cdf",
      "cell_type": "code",
      "source": "# Use for loop to change the elements in list\n\nsquares = ['red', 'yellow', 'green', 'purple', 'blue']\n\nfor i in range(0, 5):\n    print(\"Before square \", i, 'is',  squares[i])\n    squares[i] = 'white'\n    print(\"After square \", i, 'is',  squares[i])",
      "metadata": {
        "trusted": true
      },
      "outputs": [
        {
          "name": "stdout",
          "text": "Before square  0 is red\nAfter square  0 is white\nBefore square  1 is yellow\nAfter square  1 is white\nBefore square  2 is green\nAfter square  2 is white\nBefore square  3 is purple\nAfter square  3 is white\nBefore square  4 is blue\nAfter square  4 is white\n",
          "output_type": "stream"
        }
      ],
      "execution_count": 8
    },
    {
      "id": "fa17f1dc-c873-40ce-a700-73d99dc3003f",
      "cell_type": "code",
      "source": "squares",
      "metadata": {
        "trusted": true
      },
      "outputs": [
        {
          "execution_count": 9,
          "output_type": "execute_result",
          "data": {
            "text/plain": "['white', 'white', 'white', 'white', 'white']"
          },
          "metadata": {}
        }
      ],
      "execution_count": 9
    },
    {
      "id": "e3bd2e6c-acf5-407f-a69e-f7376a0b2c04",
      "cell_type": "code",
      "source": "# Loop through the list and iterate on both index and element value\n\nsquares=['red', 'yellow', 'green', 'purple', 'blue']\n\nfor i, square in enumerate(squares):\n    print(i, square)",
      "metadata": {
        "trusted": true
      },
      "outputs": [
        {
          "name": "stdout",
          "text": "0 red\n1 yellow\n2 green\n3 purple\n4 blue\n",
          "output_type": "stream"
        }
      ],
      "execution_count": 10
    },
    {
      "id": "d3a139ad-3a2c-4a49-9706-3c526b687634",
      "cell_type": "code",
      "source": "# While Loop Example\n\ndates = [1982, 1980, 1973, 2000]\n\ni = 0\nyear = dates[0]\n\nwhile(year != 1973):\n    print(year)\n    i = i + 1\n    year = dates[i]\n\nprint(\"It took \", i ,\"repetitions to get out of loop.\")",
      "metadata": {
        "trusted": true
      },
      "outputs": [
        {
          "name": "stdout",
          "text": "1982\n1980\nIt took  2 repetitions to get out of loop.\n",
          "output_type": "stream"
        }
      ],
      "execution_count": 11
    },
    {
      "id": "c8c28283-5a48-4ace-9c29-0f10cce71a33",
      "cell_type": "code",
      "source": "dates = [1982, 1980, 1973, 2000]\ni=0\nwhile(dates[i] != 1973):\n    print(dates[i])\n    i = i + 1\n\nprint(\"It took me\", i, \"iterations to get out of loop.\")",
      "metadata": {
        "trusted": true,
        "scrolled": true
      },
      "outputs": [
        {
          "name": "stdout",
          "text": "1982\n1980\nIt took me 2 iterations to get out of loop.\n",
          "output_type": "stream"
        }
      ],
      "execution_count": 12
    },
    {
      "id": "e2207138-a384-4c26-a7c4-8bcdfdc0c1b7",
      "cell_type": "code",
      "source": "# Write a for loop that prints out all the elements between -5 and 5 using the range function.\n\nfor i in range(-5, 6):\n    print(i)",
      "metadata": {
        "trusted": true
      },
      "outputs": [
        {
          "name": "stdout",
          "text": "-5\n-4\n-3\n-2\n-1\n0\n1\n2\n3\n4\n5\n",
          "output_type": "stream"
        }
      ],
      "execution_count": 13
    },
    {
      "id": "b30048b0-0322-4bd8-b7fd-ac4a414f915c",
      "cell_type": "code",
      "source": "# Print the elements of the following list: Genres=[ 'rock', 'R&B', 'Soundtrack', 'R&B', 'soul', 'pop']. \n# Make sure you follow Python conventions.\n\nGenres = ['rock', 'R&B', 'Soundtrack', 'R&B', 'soul', 'pop']\nfor Genre in Genres:\n    print(Genre)",
      "metadata": {
        "trusted": true
      },
      "outputs": [
        {
          "name": "stdout",
          "text": "rock\nR&B\nSoundtrack\nR&B\nsoul\npop\n",
          "output_type": "stream"
        }
      ],
      "execution_count": 14
    },
    {
      "id": "c97bd1cf-197c-42fd-95ab-1ff8189e58c4",
      "cell_type": "code",
      "source": "# Write a for loop that prints out the following list: squares=['red', 'yellow', 'green', 'purple', 'blue']\n\nsquares=['red', 'yellow', 'green', 'purple', 'blue']\nfor square in squares:\n    print(square)",
      "metadata": {
        "trusted": true
      },
      "outputs": [
        {
          "name": "stdout",
          "text": "red\nyellow\ngreen\npurple\nblue\n",
          "output_type": "stream"
        }
      ],
      "execution_count": 15
    },
    {
      "id": "7d86c9d1-ebf6-4c16-aa78-84529ea84bef",
      "cell_type": "code",
      "source": "# Write a while loop to display the values of the Rating of an album playlist stored in thePlayListRatings list. \n# If the score is less than 6, exit the loop. \n# The list PlayListRatings is given by: PlayListRatings = [10, 9.5, 10, 8, 7.5, 5, 10, 10]\n\n\nPlayListRatings = [10, 9.5, 10, 8, 7.5, 5, 10, 10]\ni = 0\nRating = PlayListRatings[0]\nwhile(i < len(PlayListRatings) and Rating >= 6):\n    print(Rating)\n    i = i + 1 # This prints the value 10 only once \n    Rating = PlayListRatings[i]\n    # i = i + 1 #Try uncommenting the line and comment the previous i = i + 1, and see the difference, 10 value will get printed twice because when the loop starts it will print Rating and then with PlayListRatings[0], it will again assign the value 10 to Ratings.",
      "metadata": {
        "trusted": true
      },
      "outputs": [
        {
          "name": "stdout",
          "text": "10\n9.5\n10\n8\n7.5\n",
          "output_type": "stream"
        }
      ],
      "execution_count": 16
    },
    {
      "id": "8d333b96-ef6e-466b-9f54-efc4083dd15a",
      "cell_type": "code",
      "source": "for i in PlayListRatings:\n    if i < 6:\n        break\n    print(i)",
      "metadata": {
        "trusted": true
      },
      "outputs": [
        {
          "name": "stdout",
          "text": "10\n9.5\n10\n8\n7.5\n",
          "output_type": "stream"
        }
      ],
      "execution_count": 17
    },
    {
      "id": "4ff3fbda-51e9-4b89-9764-bae8186aa56c",
      "cell_type": "code",
      "source": "# Write a while loop to copy the strings 'orange' of the list squares to the list new_squares. \n# Stop and exit the loop if the value on the list is not 'orange'\n\nsquares = ['orange', 'orange', 'purple', 'blue ', 'orange']\nnew_squares = []\ni = 0\nwhile(i < len(squares) and squares[i] == 'orange'):\n    new_squares.append(squares[i])\n    i = i + 1\nprint (new_squares)",
      "metadata": {
        "trusted": true
      },
      "outputs": [
        {
          "name": "stdout",
          "text": "['orange', 'orange']\n",
          "output_type": "stream"
        }
      ],
      "execution_count": 18
    },
    {
      "id": "913b3362-ee9e-4b41-b4e0-3f2fa286c7bf",
      "cell_type": "code",
      "source": "squares = ['orange', 'orange', 'purple', 'blue ', 'orange']\nnew_squares = []\ni = 0\ntemp = \"orange\"\nwhile(i < len(squares)):\n    if squares[i] == \"orange\":\n        new_squares.append(squares[i])\n        i=i+1\n    else:\n        break\n\nprint(new_squares)",
      "metadata": {
        "trusted": true
      },
      "outputs": [
        {
          "name": "stdout",
          "text": "['orange', 'orange']\n",
          "output_type": "stream"
        }
      ],
      "execution_count": 19
    },
    {
      "id": "5098fcac-b1e1-4a85-9384-476c7c4dc9cb",
      "cell_type": "code",
      "source": "",
      "metadata": {
        "trusted": true
      },
      "outputs": [],
      "execution_count": null
    },
    {
      "id": "ff977f9d-c999-4660-aee9-6ce5d73dcd88",
      "cell_type": "code",
      "source": "",
      "metadata": {
        "trusted": true
      },
      "outputs": [],
      "execution_count": null
    }
  ]
}