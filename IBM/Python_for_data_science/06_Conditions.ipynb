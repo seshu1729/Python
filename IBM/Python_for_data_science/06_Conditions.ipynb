{
  "metadata": {
    "kernelspec": {
      "name": "python",
      "display_name": "Python (Pyodide)",
      "language": "python"
    },
    "language_info": {
      "codemirror_mode": {
        "name": "python",
        "version": 3
      },
      "file_extension": ".py",
      "mimetype": "text/x-python",
      "name": "python",
      "nbconvert_exporter": "python",
      "pygments_lexer": "ipython3",
      "version": "3.8"
    }
  },
  "nbformat_minor": 4,
  "nbformat": 4,
  "cells": [
    {
      "cell_type": "code",
      "source": "# Condition Equal\n\na = 5\na == 6",
      "metadata": {
        "trusted": true
      },
      "outputs": [
        {
          "execution_count": 2,
          "output_type": "execute_result",
          "data": {
            "text/plain": "False"
          },
          "metadata": {}
        }
      ],
      "execution_count": 2
    },
    {
      "cell_type": "code",
      "source": "# Greater than Sign\n\ni = 6\ni > 5",
      "metadata": {
        "trusted": true
      },
      "outputs": [
        {
          "execution_count": 3,
          "output_type": "execute_result",
          "data": {
            "text/plain": "True"
          },
          "metadata": {}
        }
      ],
      "execution_count": 3
    },
    {
      "cell_type": "code",
      "source": "# Greater than Sign\n\ni = 2\ni > 5",
      "metadata": {
        "trusted": true
      },
      "outputs": [
        {
          "execution_count": 4,
          "output_type": "execute_result",
          "data": {
            "text/plain": "False"
          },
          "metadata": {}
        }
      ],
      "execution_count": 4
    },
    {
      "cell_type": "code",
      "source": "# Inequality Sign\n\ni = 2\ni != 6",
      "metadata": {
        "trusted": true
      },
      "outputs": [
        {
          "execution_count": 5,
          "output_type": "execute_result",
          "data": {
            "text/plain": "True"
          },
          "metadata": {}
        }
      ],
      "execution_count": 5
    },
    {
      "cell_type": "code",
      "source": "# Inequality Sign\n\ni = 6\ni != 6",
      "metadata": {
        "trusted": true
      },
      "outputs": [
        {
          "execution_count": 6,
          "output_type": "execute_result",
          "data": {
            "text/plain": "False"
          },
          "metadata": {}
        }
      ],
      "execution_count": 6
    },
    {
      "cell_type": "code",
      "source": "# Use Equality sign to compare the strings\n\n\"ACDC\" == \"The Bodyguard\"",
      "metadata": {
        "trusted": true
      },
      "outputs": [
        {
          "execution_count": 7,
          "output_type": "execute_result",
          "data": {
            "text/plain": "False"
          },
          "metadata": {}
        }
      ],
      "execution_count": 7
    },
    {
      "cell_type": "code",
      "source": "# Use Inequality sign to compare the strings\n\n\"ACDC\" != \"The Bodyguard\"",
      "metadata": {
        "trusted": true
      },
      "outputs": [
        {
          "execution_count": 8,
          "output_type": "execute_result",
          "data": {
            "text/plain": "True"
          },
          "metadata": {}
        }
      ],
      "execution_count": 8
    },
    {
      "cell_type": "markdown",
      "source": "<table class=\"tg\">\n<thead>\n  <tr>\n    <th class=\"tg-1cln\">Char.</th>\n    <th class=\"tg-xozw\">ASCII</th>\n    <th class=\"tg-xozw\">Char.</th>\n    <th class=\"tg-xozw\">ASCII</th>\n    <th class=\"tg-xozw\">Char.</th>\n    <th class=\"tg-xozw\">ASCII</th>\n    <th class=\"tg-xozw\">Char.</th>\n    <th class=\"tg-xozw\">ASCII</th>\n  </tr>\n</thead>\n<tbody>\n  <tr>\n    <td class=\"tg-7geq\">A</td>\n    <td class=\"tg-baqh\">65</td>\n    <td class=\"tg-7geq\">N</td>\n    <td class=\"tg-baqh\">78</td>\n    <td class=\"tg-7geq\">a</td>\n    <td class=\"tg-baqh\">97</td>\n    <td class=\"tg-7geq\">n</td>\n    <td class=\"tg-baqh\">110</td>\n  </tr>\n  <tr>\n    <td class=\"tg-7geq\">B</td>\n    <td class=\"tg-baqh\">66</td>\n    <td class=\"tg-7geq\">O</td>\n    <td class=\"tg-baqh\">79</td>\n    <td class=\"tg-7geq\">b</td>\n    <td class=\"tg-baqh\">98</td>\n    <td class=\"tg-7geq\">o</td>\n    <td class=\"tg-baqh\">111</td>\n  </tr>\n  <tr>\n    <td class=\"tg-7geq\">C</td>\n    <td class=\"tg-baqh\">67</td>\n    <td class=\"tg-7geq\">P</td>\n    <td class=\"tg-baqh\">80</td>\n    <td class=\"tg-7geq\">c</td>\n    <td class=\"tg-baqh\">99</td>\n    <td class=\"tg-7geq\">p</td>\n    <td class=\"tg-baqh\">112</td>\n  </tr>\n  <tr>\n    <td class=\"tg-7geq\">D</td>\n    <td class=\"tg-baqh\">68</td>\n    <td class=\"tg-7geq\">Q</td>\n    <td class=\"tg-baqh\">81</td>\n    <td class=\"tg-7geq\">d</td>\n    <td class=\"tg-baqh\">100</td>\n    <td class=\"tg-7geq\">q</td>\n    <td class=\"tg-baqh\">113</td>\n  </tr>\n  <tr>\n    <td class=\"tg-7geq\">E</td>\n    <td class=\"tg-baqh\">69</td>\n    <td class=\"tg-7geq\">R</td>\n    <td class=\"tg-baqh\">82</td>\n    <td class=\"tg-7geq\">e</td>\n    <td class=\"tg-baqh\">101</td>\n    <td class=\"tg-7geq\">r</td>\n    <td class=\"tg-baqh\">114</td>\n  </tr>\n  <tr>\n    <td class=\"tg-7geq\">F</td>\n    <td class=\"tg-baqh\">70</td>\n    <td class=\"tg-7geq\">S</td>\n    <td class=\"tg-baqh\">83</td>\n    <td class=\"tg-7geq\">f</td>\n    <td class=\"tg-baqh\">102</td>\n    <td class=\"tg-7geq\">s</td>\n    <td class=\"tg-baqh\">115</td>\n  </tr>\n  <tr>\n    <td class=\"tg-7geq\">G</td>\n    <td class=\"tg-baqh\">71</td>\n    <td class=\"tg-7geq\">T</td>\n    <td class=\"tg-baqh\">84</td>\n    <td class=\"tg-7geq\">g</td>\n    <td class=\"tg-baqh\">103</td>\n    <td class=\"tg-7geq\">t</td>\n    <td class=\"tg-baqh\">116</td>\n  </tr>\n  <tr>\n    <td class=\"tg-7geq\">H</td>\n    <td class=\"tg-baqh\">72</td>\n    <td class=\"tg-7geq\">U</td>\n    <td class=\"tg-baqh\">85</td>\n    <td class=\"tg-7geq\">h</td>\n    <td class=\"tg-baqh\">104</td>\n    <td class=\"tg-7geq\">u</td>\n    <td class=\"tg-baqh\">117</td>\n  </tr>\n  <tr>\n    <td class=\"tg-7geq\">I</td>\n    <td class=\"tg-baqh\">73</td>\n    <td class=\"tg-7geq\">V</td>\n    <td class=\"tg-baqh\">86</td>\n    <td class=\"tg-7geq\">i</td>\n    <td class=\"tg-baqh\">105</td>\n    <td class=\"tg-7geq\">v</td>\n    <td class=\"tg-baqh\">118</td>\n  </tr>\n  <tr>\n    <td class=\"tg-7geq\">J</td>\n    <td class=\"tg-baqh\">74</td>\n    <td class=\"tg-7geq\">W</td>\n    <td class=\"tg-baqh\">87</td>\n    <td class=\"tg-7geq\">j</td>\n    <td class=\"tg-baqh\">106</td>\n    <td class=\"tg-7geq\">w</td>\n    <td class=\"tg-baqh\">119</td>\n  </tr>\n  <tr>\n    <td class=\"tg-7geq\">K</td>\n    <td class=\"tg-baqh\">75</td>\n    <td class=\"tg-7geq\">X</td>\n    <td class=\"tg-baqh\">88</td>\n    <td class=\"tg-7geq\">k</td>\n    <td class=\"tg-baqh\">107</td>\n    <td class=\"tg-7geq\">x</td>\n    <td class=\"tg-baqh\">120</td>\n  </tr>\n  <tr>\n    <td class=\"tg-7geq\">L</td>\n    <td class=\"tg-baqh\">76</td>\n    <td class=\"tg-7geq\">Y</td>\n    <td class=\"tg-baqh\">89</td>\n    <td class=\"tg-7geq\">l</td>\n    <td class=\"tg-baqh\">108</td>\n    <td class=\"tg-7geq\">y</td>\n    <td class=\"tg-baqh\">121</td>\n  </tr>\n  <tr>\n    <td class=\"tg-7geq\">M</td>\n    <td class=\"tg-baqh\">77</td>\n    <td class=\"tg-7geq\">Z</td>\n    <td class=\"tg-baqh\">90</td>\n    <td class=\"tg-7geq\">m</td>\n    <td class=\"tg-baqh\">109</td>\n    <td class=\"tg-7geq\">z</td>\n    <td class=\"tg-baqh\">122</td>\n  </tr>\n</tbody>\n</table>\n",
      "metadata": {}
    },
    {
      "cell_type": "code",
      "source": "# Compare characters\n\n'B' > 'A'",
      "metadata": {
        "trusted": true
      },
      "outputs": [
        {
          "execution_count": 9,
          "output_type": "execute_result",
          "data": {
            "text/plain": "True"
          },
          "metadata": {}
        }
      ],
      "execution_count": 9
    },
    {
      "cell_type": "code",
      "source": "# Compare characters\n\n'BA' > 'AB'",
      "metadata": {
        "trusted": true
      },
      "outputs": [
        {
          "execution_count": 10,
          "output_type": "execute_result",
          "data": {
            "text/plain": "True"
          },
          "metadata": {}
        }
      ],
      "execution_count": 10
    },
    {
      "cell_type": "code",
      "source": "# If statement example\n\nage = 19\n#age = 18\n\n#expression that can be true or false\nif age > 18:\n    \n    #within an indent, we have the expression that is run if the condition is true\n    print(\"you can enter\" )\n\n#The statements after the if statement will run regardless if the condition is true or false \nprint(\"move on\")",
      "metadata": {
        "trusted": true
      },
      "outputs": [
        {
          "name": "stdout",
          "text": "you can enter\nmove on\n",
          "output_type": "stream"
        }
      ],
      "execution_count": 11
    },
    {
      "cell_type": "code",
      "source": "# Else statement example\n\nage = 18\n# age = 19\n\nif age > 18:\n    print(\"you can enter\" )\nelse:\n    print(\"go see Meat Loaf\" )\n    \nprint(\"move on\")",
      "metadata": {
        "trusted": true
      },
      "outputs": [
        {
          "name": "stdout",
          "text": "go see Meat Loaf\nmove on\n",
          "output_type": "stream"
        }
      ],
      "execution_count": 12
    },
    {
      "cell_type": "code",
      "source": "# Elif statment example\n\nage = 18\n\nif age > 18:\n    print(\"you can enter\" )\nelif age == 18:\n    print(\"go see Pink Floyd\")\nelse:\n    print(\"go see Meat Loaf\" )\n    \nprint(\"move on\")",
      "metadata": {
        "trusted": true
      },
      "outputs": [
        {
          "name": "stdout",
          "text": "go see Pink Floyd\nmove on\n",
          "output_type": "stream"
        }
      ],
      "execution_count": 13
    },
    {
      "cell_type": "code",
      "source": "# Condition statement example\n\nalbum_year = 1983\nalbum_year = 1970\n\nif album_year > 1980:\n    print(\"Album year is greater than 1980\")\n    \nprint('do something..')",
      "metadata": {
        "trusted": true
      },
      "outputs": [
        {
          "name": "stdout",
          "text": "do something..\n",
          "output_type": "stream"
        }
      ],
      "execution_count": 14
    },
    {
      "cell_type": "code",
      "source": "# Condition statement example\n\nalbum_year = 1983\n#album_year = 1970\n\nif album_year > 1980:\n    print(\"Album year is greater than 1980\")\nelse:\n    print(\"less than 1980\")\n\nprint('do something..')",
      "metadata": {
        "trusted": true
      },
      "outputs": [
        {
          "name": "stdout",
          "text": "Album year is greater than 1980\ndo something..\n",
          "output_type": "stream"
        }
      ],
      "execution_count": 15
    },
    {
      "cell_type": "code",
      "source": "# Condition statement example\n\nalbum_year = 1980\n\nif(album_year > 1979) and (album_year < 1990):\n    print (\"Album year was in between 1980 and 1989\")\n    \nprint(\"\")\nprint(\"Do Stuff..\")",
      "metadata": {
        "trusted": true
      },
      "outputs": [
        {
          "name": "stdout",
          "text": "Album year was in between 1980 and 1989\n\nDo Stuff..\n",
          "output_type": "stream"
        }
      ],
      "execution_count": 16
    },
    {
      "cell_type": "code",
      "source": "# Condition statement example\n\nalbum_year = 1990\n\nif(album_year < 1980) or (album_year > 1989):\n    print (\"Album was not made in the 1980's\")\nelse:\n    print(\"The Album was made in the 1980's \")",
      "metadata": {
        "trusted": true
      },
      "outputs": [
        {
          "name": "stdout",
          "text": "Album was not made in the 1980's\n",
          "output_type": "stream"
        }
      ],
      "execution_count": 17
    },
    {
      "cell_type": "code",
      "source": "# Condition statement example\n\nalbum_year = 1983\n\nif not (album_year == 1984):\n    print (\"Album year is not 1984\")",
      "metadata": {
        "trusted": true
      },
      "outputs": [
        {
          "name": "stdout",
          "text": "Album year is not 1984\n",
          "output_type": "stream"
        }
      ],
      "execution_count": 18
    },
    {
      "cell_type": "code",
      "source": "# Write a Python program to check if a player Lionel Messi has more than 10 achievements. \n# If the condition is true, print the player's name, sport, and achievements else print does not have more than 10 achievements.\n\nplayer_name = \"Lionel Messi\"\nsport = \"Soccer\"\nachievements = 7\n\nif achievements > 10:\n    print(f\"{player_name} plays {sport} and has {achievements} achievements.\")\nelse:\n    print(f\"{player_name} does not have more than 10 achievements.\")",
      "metadata": {
        "trusted": true
      },
      "outputs": [
        {
          "name": "stdout",
          "text": "Lionel Messi does not have more than 10 achievements.\n",
          "output_type": "stream"
        }
      ],
      "execution_count": 19
    },
    {
      "cell_type": "code",
      "source": "# Write a Python program to check if a player belongs to the sport Tennis or has exactly 20 achievements. \n# If the condition is true, print a success message.\n\nplayer_name = \"Roger Federer\"\nsport = \"Tennis\"\nachievements = 20\n\nif sport == \"Tennis\" or achievements == 20:\n    print(f\"{player_name} meets the criteria! They play {sport} and have {achievements} achievements.\")\nelse:\n    print(f\"{player_name} does not meet the criteria.\")",
      "metadata": {
        "trusted": true
      },
      "outputs": [
        {
          "name": "stdout",
          "text": "Roger Federer meets the criteria! They play Tennis and have 20 achievements.\n",
          "output_type": "stream"
        }
      ],
      "execution_count": 20
    },
    {
      "cell_type": "code",
      "source": "# Write a Python program to check if a player has less than 10 achievements and does not play Soccer. \n# Print their details if they meet the criteria.\n\nplayer_name = \"Usain Bolt\"\nsport = \"Athletics\"\nachievements = 8\n\nif achievements < 10 and sport != \"Soccer\":\n    print(f\"{player_name} plays {sport} and has only {achievements} achievements.\")\nelse:\n    print(f\"{player_name} does not meet the criteria.\")",
      "metadata": {
        "trusted": true
      },
      "outputs": [
        {
          "name": "stdout",
          "text": "Usain Bolt plays Athletics and has only 8 achievements.\n",
          "output_type": "stream"
        }
      ],
      "execution_count": 21
    },
    {
      "cell_type": "code",
      "source": "",
      "metadata": {
        "trusted": true
      },
      "outputs": [],
      "execution_count": null
    }
  ]
}