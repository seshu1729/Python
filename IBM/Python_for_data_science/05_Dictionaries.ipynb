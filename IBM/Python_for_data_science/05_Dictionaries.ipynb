{
  "metadata": {
    "kernelspec": {
      "name": "python",
      "display_name": "Python (Pyodide)",
      "language": "python"
    },
    "language_info": {
      "codemirror_mode": {
        "name": "python",
        "version": 3
      },
      "file_extension": ".py",
      "mimetype": "text/x-python",
      "name": "python",
      "nbconvert_exporter": "python",
      "pygments_lexer": "ipython3",
      "version": "3.8"
    }
  },
  "nbformat_minor": 5,
  "nbformat": 4,
  "cells": [
    {
      "id": "54874dd1-3155-4f33-bb90-faa5f4e53829",
      "cell_type": "code",
      "source": "D={'a':0,'b':1,'c':2}\nD[\"a\"]",
      "metadata": {
        "tags": []
      },
      "outputs": [
        {
          "data": {
            "text/plain": [
              "0"
            ]
          },
          "execution_count": 1,
          "metadata": {},
          "output_type": "execute_result"
        }
      ],
      "execution_count": 1
    },
    {
      "id": "4efd43c5-8d78-444e-be15-8912c48d4735",
      "cell_type": "code",
      "source": "D.keys()",
      "metadata": {
        "tags": []
      },
      "outputs": [
        {
          "data": {
            "text/plain": [
              "dict_keys(['a', 'b', 'c'])"
            ]
          },
          "execution_count": 2,
          "metadata": {},
          "output_type": "execute_result"
        }
      ],
      "execution_count": 2
    },
    {
      "id": "5ce52370-23a9-4387-ae11-712190244adb",
      "cell_type": "code",
      "source": "# Create the dictionary\n\nDict = {\"key1\": 1, \"key2\": \"2\", \"key3\": [3, 3, 3], \"key4\": (4, 4, 4), ('key5'): 5, (0, 1): 6}\nDict",
      "metadata": {
        "trusted": true
      },
      "outputs": [
        {
          "execution_count": 1,
          "output_type": "execute_result",
          "data": {
            "text/plain": "{'key1': 1,\n 'key2': '2',\n 'key3': [3, 3, 3],\n 'key4': (4, 4, 4),\n 'key5': 5,\n (0, 1): 6}"
          },
          "metadata": {}
        }
      ],
      "execution_count": 1
    },
    {
      "id": "7dfad81f-ae86-4527-a024-40d85230de12",
      "cell_type": "code",
      "source": "# Access to the value by the key\n\nDict[\"key1\"]",
      "metadata": {
        "trusted": true
      },
      "outputs": [
        {
          "execution_count": 2,
          "output_type": "execute_result",
          "data": {
            "text/plain": "1"
          },
          "metadata": {}
        }
      ],
      "execution_count": 2
    },
    {
      "id": "85eba967-0929-4463-95ae-b79baf039b73",
      "cell_type": "code",
      "source": "# Access to the value by the key\n\nDict[(0, 1)]",
      "metadata": {
        "trusted": true
      },
      "outputs": [
        {
          "execution_count": 3,
          "output_type": "execute_result",
          "data": {
            "text/plain": "6"
          },
          "metadata": {}
        }
      ],
      "execution_count": 3
    },
    {
      "id": "d0fa9c7c-1edb-4c99-8918-f9fad76775a6",
      "cell_type": "code",
      "source": "# Create a sample dictionary\n\nrelease_year_dict = {\"Thriller\": \"1982\", \"Back in Black\": \"1980\", \\\n                    \"The Dark Side of the Moon\": \"1973\", \"The Bodyguard\": \"1992\", \\\n                    \"Bat Out of Hell\": \"1977\", \"Their Greatest Hits (1971-1975)\": \"1976\", \\\n                    \"Saturday Night Fever\": \"1977\", \"Rumours\": \"1977\"}\nrelease_year_dict",
      "metadata": {
        "trusted": true
      },
      "outputs": [
        {
          "execution_count": 4,
          "output_type": "execute_result",
          "data": {
            "text/plain": "{'Thriller': '1982',\n 'Back in Black': '1980',\n 'The Dark Side of the Moon': '1973',\n 'The Bodyguard': '1992',\n 'Bat Out of Hell': '1977',\n 'Their Greatest Hits (1971-1975)': '1976',\n 'Saturday Night Fever': '1977',\n 'Rumours': '1977'}"
          },
          "metadata": {}
        }
      ],
      "execution_count": 4
    },
    {
      "id": "86769e71-1e9e-4ddd-96eb-bd0aef24b213",
      "cell_type": "code",
      "source": "# Get value by keys\n\nrelease_year_dict['Thriller'] ",
      "metadata": {
        "trusted": true
      },
      "outputs": [
        {
          "execution_count": 5,
          "output_type": "execute_result",
          "data": {
            "text/plain": "'1982'"
          },
          "metadata": {}
        }
      ],
      "execution_count": 5
    },
    {
      "id": "bcb7c586-e2ca-4df9-8b3b-3d31acce8937",
      "cell_type": "code",
      "source": "# Get value by key\n\nrelease_year_dict['The Bodyguard'] ",
      "metadata": {
        "trusted": true
      },
      "outputs": [
        {
          "execution_count": 6,
          "output_type": "execute_result",
          "data": {
            "text/plain": "'1992'"
          },
          "metadata": {}
        }
      ],
      "execution_count": 6
    },
    {
      "id": "9601324e-7a5a-40d7-9652-3bedc1d3dc68",
      "cell_type": "code",
      "source": "# Get all the keys in dictionary\n\nrelease_year_dict.keys() ",
      "metadata": {
        "trusted": true
      },
      "outputs": [
        {
          "execution_count": 7,
          "output_type": "execute_result",
          "data": {
            "text/plain": "dict_keys(['Thriller', 'Back in Black', 'The Dark Side of the Moon', 'The Bodyguard', 'Bat Out of Hell', 'Their Greatest Hits (1971-1975)', 'Saturday Night Fever', 'Rumours'])"
          },
          "metadata": {}
        }
      ],
      "execution_count": 7
    },
    {
      "id": "f27b9564-599b-42fa-9138-3c21c5a6555c",
      "cell_type": "code",
      "source": "# Get all the values in dictionary\n\nrelease_year_dict.values() ",
      "metadata": {
        "trusted": true
      },
      "outputs": [
        {
          "execution_count": 8,
          "output_type": "execute_result",
          "data": {
            "text/plain": "dict_values(['1982', '1980', '1973', '1992', '1977', '1976', '1977', '1977'])"
          },
          "metadata": {}
        }
      ],
      "execution_count": 8
    },
    {
      "id": "8fb4c0f3-ec19-4a79-ab88-b35e2dc15554",
      "cell_type": "code",
      "source": "# Append value with key into dictionary\n\nrelease_year_dict['Graduation'] = '2007'\nrelease_year_dict",
      "metadata": {
        "trusted": true
      },
      "outputs": [
        {
          "execution_count": 9,
          "output_type": "execute_result",
          "data": {
            "text/plain": "{'Thriller': '1982',\n 'Back in Black': '1980',\n 'The Dark Side of the Moon': '1973',\n 'The Bodyguard': '1992',\n 'Bat Out of Hell': '1977',\n 'Their Greatest Hits (1971-1975)': '1976',\n 'Saturday Night Fever': '1977',\n 'Rumours': '1977',\n 'Graduation': '2007'}"
          },
          "metadata": {}
        }
      ],
      "execution_count": 9
    },
    {
      "id": "73cdd044-1fe8-4220-a697-fd3ce9434917",
      "cell_type": "code",
      "source": "# Delete entries by key\n\ndel(release_year_dict['Thriller'])\ndel(release_year_dict['Graduation'])\nrelease_year_dict",
      "metadata": {
        "trusted": true
      },
      "outputs": [
        {
          "execution_count": 10,
          "output_type": "execute_result",
          "data": {
            "text/plain": "{'Back in Black': '1980',\n 'The Dark Side of the Moon': '1973',\n 'The Bodyguard': '1992',\n 'Bat Out of Hell': '1977',\n 'Their Greatest Hits (1971-1975)': '1976',\n 'Saturday Night Fever': '1977',\n 'Rumours': '1977'}"
          },
          "metadata": {}
        }
      ],
      "execution_count": 10
    },
    {
      "id": "85662369-6647-4d66-9306-1d6c4c66e7b5",
      "cell_type": "code",
      "source": "# Verify the key is in the dictionary\n\n'The Bodyguard' in release_year_dict",
      "metadata": {
        "trusted": true
      },
      "outputs": [
        {
          "execution_count": 11,
          "output_type": "execute_result",
          "data": {
            "text/plain": "True"
          },
          "metadata": {}
        }
      ],
      "execution_count": 11
    },
    {
      "id": "087d3a42-b4b3-42d9-a3f2-3f64b10800e6",
      "cell_type": "code",
      "source": "# Question sample dictionary\n\nsoundtrack_dic = {\"The Bodyguard\":\"1992\", \"Saturday Night Fever\":\"1977\"}\nsoundtrack_dic ",
      "metadata": {
        "trusted": true
      },
      "outputs": [
        {
          "execution_count": 12,
          "output_type": "execute_result",
          "data": {
            "text/plain": "{'The Bodyguard': '1992', 'Saturday Night Fever': '1977'}"
          },
          "metadata": {}
        }
      ],
      "execution_count": 12
    },
    {
      "id": "92feef21-a44f-4daa-8b6d-ac652ec8ffd4",
      "cell_type": "code",
      "source": "soundtrack_dic.keys()",
      "metadata": {
        "trusted": true
      },
      "outputs": [
        {
          "execution_count": 13,
          "output_type": "execute_result",
          "data": {
            "text/plain": "dict_keys(['The Bodyguard', 'Saturday Night Fever'])"
          },
          "metadata": {}
        }
      ],
      "execution_count": 13
    },
    {
      "id": "74b56dbc-9e5c-4c35-9f18-82904a4b092a",
      "cell_type": "code",
      "source": "soundtrack_dic.values()",
      "metadata": {
        "trusted": true
      },
      "outputs": [
        {
          "execution_count": 14,
          "output_type": "execute_result",
          "data": {
            "text/plain": "dict_values(['1992', '1977'])"
          },
          "metadata": {}
        }
      ],
      "execution_count": 14
    },
    {
      "id": "456a7b23-36ff-4ea5-90ff-18b7d36d6428",
      "cell_type": "code",
      "source": "soundtrack_dic.items()",
      "metadata": {
        "trusted": true
      },
      "outputs": [
        {
          "execution_count": 15,
          "output_type": "execute_result",
          "data": {
            "text/plain": "dict_items([('The Bodyguard', '1992'), ('Saturday Night Fever', '1977')])"
          },
          "metadata": {}
        }
      ],
      "execution_count": 15
    },
    {
      "id": "9aa25c53-d3fe-45f8-8c53-3492664ea883",
      "cell_type": "code",
      "source": "",
      "metadata": {
        "trusted": true
      },
      "outputs": [],
      "execution_count": null
    },
    {
      "id": "bafa54d8-806c-4ba2-95ba-5c2d8b8aa703",
      "cell_type": "code",
      "source": "",
      "metadata": {
        "trusted": true
      },
      "outputs": [],
      "execution_count": null
    },
    {
      "id": "9c5f7c63-5c31-442e-865c-15641c67af7a",
      "cell_type": "code",
      "source": "# create an empty dictionary, where you will be storing the product details.\ninventory ={}",
      "metadata": {
        "trusted": true
      },
      "outputs": [],
      "execution_count": 19
    },
    {
      "id": "e2207bba-fa41-48b7-ad3d-e345f5f340a6",
      "cell_type": "code",
      "source": "# Store the first product details in variable\n# Product Name= Mobile phone\n# Product Quantity= 5\n# Product price= 20000\n# Product Release Year= 2020\n\nProductNo1 = \"Mobile Phone\"\nProductNo1_quantity = 5\nProductNo1_price = 20000\nProductNo1_releaseYear= 2020",
      "metadata": {
        "trusted": true
      },
      "outputs": [],
      "execution_count": 17
    },
    {
      "id": "4eb97301-50db-4f4a-bf71-4aab318554d4",
      "cell_type": "code",
      "source": "# Add the details in inventory\n\ninventory[\"ProductNo1\"]= ProductNo1\ninventory[\"ProductNo1_quantity\"]= ProductNo1_quantity\ninventory[\"ProductNo1_price\"]= ProductNo1_price\ninventory[\"ProductNo1_releaseYear\"]=ProductNo1_releaseYear",
      "metadata": {
        "trusted": true
      },
      "outputs": [],
      "execution_count": 20
    },
    {
      "id": "12140fc6-a1eb-4215-b05d-cd2766e955af",
      "cell_type": "code",
      "source": "# Store the second product details in a variable.\n# Product Name= \"Laptop\"\n# Product Quantity= 10\n# Product price = 50000\n# Product Release Year= 2023\n\nProductNo2 = \"Laptop\"\nProductNo2_quantity = 10\nProductNo2_price = 50000\nProductNo2_releaseYear= 2023",
      "metadata": {
        "trusted": true
      },
      "outputs": [],
      "execution_count": 21
    },
    {
      "id": "a0bbffa8-4577-428a-90fa-18a9c463a757",
      "cell_type": "code",
      "source": "# Add the item detail into the inventory.\n\ninventory[\"ProductNo2\"]= ProductNo2\ninventory[\"ProductNo2_quantity\"]= ProductNo2_quantity\ninventory[\"ProductNo2_price\"]= ProductNo2_price\ninventory[\"ProductNo2_releaseYear\"]=ProductNo2_releaseYear\n\nprint(inventory)",
      "metadata": {
        "trusted": true
      },
      "outputs": [
        {
          "name": "stdout",
          "text": "{'ProductNo1': 'Mobile Phone', 'ProductNo1_quantity': 5, 'ProductNo1_price': 20000, 'ProductNo1_releaseYear': 2020, 'ProductNo2': 'Laptop', 'ProductNo2_quantity': 10, 'ProductNo2_price': 50000, 'ProductNo2_releaseYear': 2023}\n",
          "output_type": "stream"
        }
      ],
      "execution_count": 22
    },
    {
      "id": "3bed2589-636c-4322-893c-1c03139a9bb2",
      "cell_type": "code",
      "source": "print(\"ProductNo1_releaseYear\" in inventory)\nprint(\"ProductNo2_releaseYear\" in inventory)",
      "metadata": {
        "trusted": true
      },
      "outputs": [
        {
          "name": "stdout",
          "text": "True\nTrue\n",
          "output_type": "stream"
        }
      ],
      "execution_count": 24
    },
    {
      "id": "3dd6e43f-9a8d-4186-888b-f46b61683a7c",
      "cell_type": "code",
      "source": "# Delete release year of both the products from the inventory\ndel(inventory[\"ProductNo1_releaseYear\"])\ndel(inventory[\"ProductNo2_releaseYear\"])",
      "metadata": {
        "trusted": true
      },
      "outputs": [],
      "execution_count": 25
    },
    {
      "id": "1e07b71b-34d2-44cf-a4a7-1381b98ef458",
      "cell_type": "code",
      "source": "",
      "metadata": {
        "trusted": true
      },
      "outputs": [],
      "execution_count": null
    }
  ]
}