{
  "metadata": {
    "kernelspec": {
      "name": "python",
      "display_name": "Python (Pyodide)",
      "language": "python"
    },
    "language_info": {
      "codemirror_mode": {
        "name": "python",
        "version": 3
      },
      "file_extension": ".py",
      "mimetype": "text/x-python",
      "name": "python",
      "nbconvert_exporter": "python",
      "pygments_lexer": "ipython3",
      "version": "3.8"
    }
  },
  "nbformat_minor": 4,
  "nbformat": 4,
  "cells": [
    {
      "cell_type": "markdown",
      "source": "### Exception\n\nAn exception is an error that occurs during the execution of code. This error causes the code to raise an exception and if not prepared to handle it will halt the execution of the code.",
      "metadata": {}
    },
    {
      "cell_type": "code",
      "source": "1/0",
      "metadata": {
        "trusted": true
      },
      "outputs": [
        {
          "ename": "<class 'ZeroDivisionError'>",
          "evalue": "division by zero",
          "traceback": [
            "\u001b[0;31m---------------------------------------------------------------------------\u001b[0m",
            "\u001b[0;31mZeroDivisionError\u001b[0m                         Traceback (most recent call last)",
            "Cell \u001b[0;32mIn[2], line 1\u001b[0m\n\u001b[0;32m----> 1\u001b[0m \u001b[38;5;241;43m1\u001b[39;49m\u001b[38;5;241;43m/\u001b[39;49m\u001b[38;5;241;43m0\u001b[39;49m\n",
            "\u001b[0;31mZeroDivisionError\u001b[0m: division by zero"
          ],
          "output_type": "error"
        }
      ],
      "execution_count": 2
    },
    {
      "cell_type": "markdown",
      "source": "<code>ZeroDivisionError</code> occurs when you try to divide by zero.\n",
      "metadata": {}
    },
    {
      "cell_type": "code",
      "source": "y = a + 5",
      "metadata": {
        "trusted": true
      },
      "outputs": [
        {
          "ename": "<class 'NameError'>",
          "evalue": "name 'a' is not defined",
          "traceback": [
            "\u001b[0;31m---------------------------------------------------------------------------\u001b[0m",
            "\u001b[0;31mNameError\u001b[0m                                 Traceback (most recent call last)",
            "Cell \u001b[0;32mIn[4], line 1\u001b[0m\n\u001b[0;32m----> 1\u001b[0m y \u001b[38;5;241m=\u001b[39m \u001b[43ma\u001b[49m \u001b[38;5;241m+\u001b[39m \u001b[38;5;241m5\u001b[39m\n",
            "\u001b[0;31mNameError\u001b[0m: name 'a' is not defined"
          ],
          "output_type": "error"
        }
      ],
      "execution_count": 4
    },
    {
      "cell_type": "markdown",
      "source": "<code>NameError</code> -- in this case, it means that you tried to use the variable a when it was not defined.",
      "metadata": {}
    },
    {
      "cell_type": "code",
      "source": "a = [1, 2, 3]\na[10]",
      "metadata": {
        "trusted": true
      },
      "outputs": [
        {
          "ename": "<class 'IndexError'>",
          "evalue": "list index out of range",
          "traceback": [
            "\u001b[0;31m---------------------------------------------------------------------------\u001b[0m",
            "\u001b[0;31mIndexError\u001b[0m                                Traceback (most recent call last)",
            "Cell \u001b[0;32mIn[5], line 2\u001b[0m\n\u001b[1;32m      1\u001b[0m a \u001b[38;5;241m=\u001b[39m [\u001b[38;5;241m1\u001b[39m, \u001b[38;5;241m2\u001b[39m, \u001b[38;5;241m3\u001b[39m]\n\u001b[0;32m----> 2\u001b[0m \u001b[43ma\u001b[49m\u001b[43m[\u001b[49m\u001b[38;5;241;43m10\u001b[39;49m\u001b[43m]\u001b[49m\n",
            "\u001b[0;31mIndexError\u001b[0m: list index out of range"
          ],
          "output_type": "error"
        }
      ],
      "execution_count": 5
    },
    {
      "cell_type": "markdown",
      "source": "<code>IndexError</code> -- in this case, it occured because you tried to access data from a list using an index that does not exist for this list.\nThere are many more exceptions that are built into Python, here is a list of them https://docs.python.org/3/library/exceptions.html",
      "metadata": {}
    },
    {
      "cell_type": "markdown",
      "source": "## Exception Handling",
      "metadata": {}
    },
    {
      "cell_type": "markdown",
      "source": "### Try Except\n\nA <code>try except</code> will allow you to execute code that might raise an exception and in the case of any exception or a specific one we can handle or catch the exception and execute specific code. This will allow us to continue the execution of our program even if there is an exception.\n\nPython tries to execute the code in the <code>try</code> block. In this case if there is any exception raised by the code in the <code>try</code> block, it will be caught and the code block in the <code>except</code> block will be executed. After that, the code that comes <em>after</em> the try except will be executed.",
      "metadata": {}
    },
    {
      "cell_type": "raw",
      "source": "# potential code before try catch\n\ntry:\n    # code to try to execute\nexcept:\n    # code to execute if there is an exception\n    \n# code that will still execute if there is an exception",
      "metadata": {}
    },
    {
      "cell_type": "code",
      "source": "a = 1\n\ntry:\n    b = int(input(\"Please enter a number to divide a\"))\n    a = a/b\n    print(\"Success a=\",a)\nexcept:\n    print(\"There was an error\")",
      "metadata": {
        "trusted": true
      },
      "outputs": [
        {
          "name": "stdout",
          "text": "There was an error\n",
          "output_type": "stream"
        },
        {
          "output_type": "stream",
          "name": "stdin",
          "text": "Please enter a number to divide a 1\n"
        }
      ],
      "execution_count": 9
    },
    {
      "cell_type": "raw",
      "source": "# potential code before try catch\n\ntry:\n    # code to try to execute\nexcept (ZeroDivisionError, NameError):\n    # code to execute if there is an exception of the given types\n    \n# code that will execute if there is no exception or a one that we are handling",
      "metadata": {}
    },
    {
      "cell_type": "raw",
      "source": "# potential code before try catch\n\ntry:\n    # code to try to execute\nexcept ZeroDivisionError:\n    # code to execute if there is a ZeroDivisionError\nexcept NameError:\n    # code to execute if there is a NameError\n    \n# code that will execute if there is no exception or a one that we are handling",
      "metadata": {}
    },
    {
      "cell_type": "raw",
      "source": "# potential code before try catch\n\ntry:\n    # code to try to execute\nexcept ZeroDivisionError:\n    # code to execute if there is a ZeroDivisionError\nexcept NameError:\n    # code to execute if there is a NameError\nexcept:\n    # code to execute if ther is any exception\n    \n# code that will execute if there is no exception or a one that we are handling",
      "metadata": {}
    },
    {
      "cell_type": "code",
      "source": "a = 1\n\ntry:\n    # b = int(input(\"Please enter a number to divide a\"))\n    a = a/b\n    print(\"Success a=\",a)\nexcept ZeroDivisionError:\n    print(\"The number you provided cant divide 1 because it is 0\")\nexcept ValueError:\n    print(\"You did not provide a number\")\nexcept:\n    print(\"Something went wrong\")",
      "metadata": {
        "trusted": true
      },
      "outputs": [
        {
          "name": "stdout",
          "text": "Something went wrong\n",
          "output_type": "stream"
        }
      ],
      "execution_count": 15
    },
    {
      "cell_type": "markdown",
      "source": "<code>else</code> allows one to check if there was no exception when executing the try block. This is useful when we want to execute something only if there were no errors.",
      "metadata": {}
    },
    {
      "cell_type": "raw",
      "source": "# potential code before try catch\n\ntry:\n    # code to try to execute\nexcept ZeroDivisionError:\n    # code to execute if there is a ZeroDivisionError\nexcept NameError:\n    # code to execute if there is a NameError\nexcept:\n    # code to execute if ther is any exception\nelse:\n    # code to execute if there is no exception\n    \n# code that will execute if there is no exception or a one that we are handling",
      "metadata": {}
    },
    {
      "cell_type": "markdown",
      "source": "<code>finally</code> allows us to always execute something even if there is an exception or not. This is usually used to signify the end of the try except.",
      "metadata": {}
    },
    {
      "cell_type": "raw",
      "source": "# potential code before try catch\n\ntry:\n    # code to try to execute\nexcept ZeroDivisionError:\n    # code to execute if there is a ZeroDivisionError\nexcept NameError:\n    # code to execute if there is a NameError\nexcept:\n    # code to execute if ther is any exception\nelse:\n    # code to execute if there is no exception\nfinally:\n    # code to execute at the end of the try except no matter what\n    \n# code that will execute if there is no exception or a one that we are handling",
      "metadata": {}
    },
    {
      "cell_type": "code",
      "source": "a = 1\n\ntry:\n    b = int(input(\"Please enter a number to divide a\"))\n    a = a/b\nexcept ZeroDivisionError:\n    print(\"The number you provided cant divide 1 because it is 0\")\nexcept ValueError:\n    print(\"You did not provide a number\")\nexcept:\n    print(\"Something went wrong\")\nelse:\n    print(\"success a=\",a)",
      "metadata": {
        "trusted": true
      },
      "outputs": [
        {
          "name": "stdout",
          "text": "Something went wrong\n",
          "output_type": "stream"
        },
        {
          "output_type": "stream",
          "name": "stdin",
          "text": "Please enter a number to divide a 0\n"
        }
      ],
      "execution_count": 17
    },
    {
      "cell_type": "code",
      "source": "a = 1\n\ntry:\n    b = int(input(\"Please enter a number to divide a\"))\n    a = a/b\nexcept ZeroDivisionError:\n    print(\"The number you provided cant divide 1 because it is 0\")\nexcept ValueError:\n    print(\"You did not provide a number\")\nexcept:\n    print(\"Something went wrong\")\nelse:\n    print(\"success a=\",a)\nfinally:\n    print(\"Processing Complete\")",
      "metadata": {
        "trusted": true
      },
      "outputs": [
        {
          "name": "stdout",
          "text": "Something went wrong\nProcessing Complete\n",
          "output_type": "stream"
        },
        {
          "output_type": "stream",
          "name": "stdin",
          "text": "Please enter a number to divide a 0\n"
        }
      ],
      "execution_count": 18
    },
    {
      "cell_type": "markdown",
      "source": "### Exercise 1: Handling ZeroDivisionError\nImagine you have two numbers and want to determine what happens when you divide one number by the other. To do this, you need to create a Python function called `safe_divide.` You give this function two numbers, a `'numerator'` and a `'denominator'`. The 'numerator' is the number you want to divide, and the `'denominator'` is the number you want to divide by. Use the user input method of Python to take the values.\n\nThe function should be able to do the division for you and give you the result. But here's the catch: if you try to divide by zero (which is not allowed in math), the function should be smart enough to catch that and tell you that it's not possible to divide by zero. Instead of showing an error, it should return None, which means 'nothing' or 'no value', and print `\"Error: Cannot divide by Zero.`",
      "metadata": {}
    },
    {
      "cell_type": "code",
      "source": "def safe_divide(numerator,denominator):\n    try:\n        result = numerator / denominator\n        return result\n    except ZeroDivisionError:\n        print(\"Error: Cannot divide by zero.\")\n        return None\n# Test case\nnumerator=1\ndenominator=0\nprint(safe_divide(numerator,denominator))",
      "metadata": {
        "trusted": true
      },
      "outputs": [
        {
          "name": "stdout",
          "text": "Error: Cannot divide by zero.\nNone\n",
          "output_type": "stream"
        }
      ],
      "execution_count": 22
    },
    {
      "cell_type": "markdown",
      "source": "### Exercise 2: Handling ValueError\nImagine you have a number and want to calculate its square root. To do this, you need to create a Python function. You give this function one number, `'number1'`.\n\nThe function should generate the square root value if you provide a positive integer or float value as input. However, the function should be clever enough to detect the mistake if you enter a negative value. It should kindly inform you with a message saying, `'Invalid input! Please enter a positive integer or a float value.`",
      "metadata": {}
    },
    {
      "cell_type": "code",
      "source": "import math\n\ndef perform_calculation(number1):\n    try:\n        result = math.sqrt(number1)\n        print(f\"Result: {result}\")\n    except ValueError:\n        print(\"Error: Invalid input! Please enter a positive integer or a float value.\")\n# Test case\nnumber1=float(-1)\nperform_calculation(number1)",
      "metadata": {
        "trusted": true
      },
      "outputs": [
        {
          "name": "stdout",
          "text": "Error: Invalid input! Please enter a positive integer or a float value.\n",
          "output_type": "stream"
        }
      ],
      "execution_count": 28
    },
    {
      "cell_type": "markdown",
      "source": "### Exercise 3: Handling Generic Exceptions\nImagine you have a number and want to perform a complex mathematical task. The calculation requires dividing the value of the input argument `\"num\"` by the difference between `\"num\"` and 5, and the result has to be stored in a variable called `\"result\"`.\n\nYou have to define a function so that it can perform that complex mathematical task. The function should handle any potential errors that occur during the calculation. To do this, you can use a try-except block. If any exception arises during the calculation, it should catch the error using the generic exception class `\"Exception\" as \"e\"`. When an exception occurs, the function should display `\"An error occurred during calculation.`\n",
      "metadata": {}
    },
    {
      "cell_type": "code",
      "source": "def complex_calculation(num):\n    try:\n        result = num / (num - 5)\n        print (f\"Result: {result}\")\n    except Exception as e:\n        print(\"An error occurred during calculation.\")\n# Test case\nuser_input = float(5)\ncomplex_calculation(user_input)",
      "metadata": {
        "trusted": true
      },
      "outputs": [
        {
          "name": "stdout",
          "text": "An error occurred during calculation.\n",
          "output_type": "stream"
        }
      ],
      "execution_count": 31
    },
    {
      "cell_type": "code",
      "source": "",
      "metadata": {
        "trusted": true
      },
      "outputs": [],
      "execution_count": null
    }
  ]
}