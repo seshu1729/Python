{
  "metadata": {
    "kernelspec": {
      "name": "python",
      "display_name": "Python (Pyodide)",
      "language": "python"
    },
    "language_info": {
      "codemirror_mode": {
        "name": "python",
        "version": 3
      },
      "file_extension": ".py",
      "mimetype": "text/x-python",
      "name": "python",
      "nbconvert_exporter": "python",
      "pygments_lexer": "ipython3",
      "version": "3.8"
    }
  },
  "nbformat_minor": 5,
  "nbformat": 4,
  "cells": [
    {
      "id": "7ff669e5-69fc-4609-acdd-eee996bcdc60",
      "cell_type": "code",
      "source": "# String slicing\n# Q: Use slicing to find the first four elements of the following string:\n\nLetters = \"ABCDEFGHIJK\"\nLetters[0:4]",
      "metadata": {
        "tags": [],
        "trusted": true
      },
      "outputs": [
        {
          "execution_count": 1,
          "output_type": "execute_result",
          "data": {
            "text/plain": "'ABCD'"
          },
          "metadata": {}
        }
      ],
      "execution_count": 1
    },
    {
      "id": "d340aae1-ee25-4b38-8f92-c50f6e676419",
      "cell_type": "code",
      "source": "Letters = ['A', 'B', 'C', 'D', 'E', 'F']\nLetters[0:4]",
      "metadata": {
        "tags": [],
        "trusted": true
      },
      "outputs": [
        {
          "execution_count": 2,
          "output_type": "execute_result",
          "data": {
            "text/plain": "['A', 'B', 'C', 'D']"
          },
          "metadata": {}
        }
      ],
      "execution_count": 2
    },
    {
      "id": "af0d0440-eaf2-4e3d-b628-4b85aa914131",
      "cell_type": "code",
      "source": "# Q: Use a stride value of 2 on the following string :\n\nGood=\"GsoAo+d\"\nGood[::2]",
      "metadata": {
        "tags": [],
        "trusted": true
      },
      "outputs": [
        {
          "execution_count": 3,
          "output_type": "execute_result",
          "data": {
            "text/plain": "'Good'"
          },
          "metadata": {}
        }
      ],
      "execution_count": 3
    },
    {
      "id": "87bbd1c5-1e2c-49cb-a03d-99b1746fe891",
      "cell_type": "code",
      "source": "# Q: Convert the following string to uppercase using the method <code>upper()</code>:\n\n\"uppercase\".upper()",
      "metadata": {
        "tags": [],
        "trusted": true
      },
      "outputs": [
        {
          "execution_count": 4,
          "output_type": "execute_result",
          "data": {
            "text/plain": "'UPPERCASE'"
          },
          "metadata": {}
        }
      ],
      "execution_count": 4
    },
    {
      "id": "68332bf6-c488-47f0-85b2-922c99ac6eef",
      "cell_type": "code",
      "source": "# Convert all the characters in string to upper case\n\na = \"Thriller is the sixth studio album\"\nprint(\"before upper:\", a)\nb = a.upper()\nprint(\"After upper:\", b)",
      "metadata": {
        "trusted": true
      },
      "outputs": [
        {
          "name": "stdout",
          "text": "before upper: Thriller is the sixth studio album\nAfter upper: THRILLER IS THE SIXTH STUDIO ALBUM\n",
          "output_type": "stream"
        }
      ],
      "execution_count": 5
    },
    {
      "id": "e185a504-4b06-4666-bd0e-50beabc5be31",
      "cell_type": "code",
      "source": "# Replace the old substring with the new target substring is the segment has been found in the string\n\na = \"The BodyGuard is the best album\"\nb = a.replace('BodyGuard', 'Janet')\nb",
      "metadata": {
        "trusted": true
      },
      "outputs": [
        {
          "execution_count": 6,
          "output_type": "execute_result",
          "data": {
            "text/plain": "'The Janet is the best album'"
          },
          "metadata": {}
        }
      ],
      "execution_count": 6
    },
    {
      "id": "76cd4d1e-3b28-4db8-9f47-61bbe5b27d20",
      "cell_type": "code",
      "source": "# Find the substring in the string. Only the index of the first elment of substring in string will be the output\n\nname = \"The BodyGuard\"\nname.find('he')",
      "metadata": {
        "trusted": true
      },
      "outputs": [
        {
          "execution_count": 7,
          "output_type": "execute_result",
          "data": {
            "text/plain": "1"
          },
          "metadata": {}
        }
      ],
      "execution_count": 7
    },
    {
      "id": "e1409dfd-068b-4c6a-8b9c-d60381ce6a6d",
      "cell_type": "code",
      "source": "# Find the substring in the string.\n\nname.find('Guard')",
      "metadata": {
        "trusted": true
      },
      "outputs": [
        {
          "execution_count": 8,
          "output_type": "execute_result",
          "data": {
            "text/plain": "8"
          },
          "metadata": {}
        }
      ],
      "execution_count": 8
    },
    {
      "id": "e92a43b5-a656-4932-8ad0-b66ca1402130",
      "cell_type": "code",
      "source": "# If cannot find the substring in the string\n\nname.find('Jasdfasdasdf')",
      "metadata": {
        "trusted": true
      },
      "outputs": [
        {
          "execution_count": 9,
          "output_type": "execute_result",
          "data": {
            "text/plain": "-1"
          },
          "metadata": {}
        }
      ],
      "execution_count": 9
    },
    {
      "id": "6ed193d9-5e96-4b7a-ae63-b29439210fab",
      "cell_type": "code",
      "source": "#Split the substring into list\nname = \"The BodyGuard\"\nsplit_string = (name.split())\nsplit_string",
      "metadata": {
        "trusted": true
      },
      "outputs": [
        {
          "execution_count": 10,
          "output_type": "execute_result",
          "data": {
            "text/plain": "['The', 'BodyGuard']"
          },
          "metadata": {}
        }
      ],
      "execution_count": 10
    },
    {
      "id": "78336373-0dfe-43aa-8dd2-f794106ba610",
      "cell_type": "markdown",
      "source": "### RegEx (short for Regular Expression)\n\nTool for matching and handling strings. Python provides a built-in module called re, which allows you to work with regular expressions.",
      "metadata": {}
    },
    {
      "id": "279cab64-7d8c-4eeb-a39a-6f5d45cf134b",
      "cell_type": "code",
      "source": "import re\n\ns1 = \"The BodyGuard is the best album\"\n\n# Define the pattern to search for\npattern = r\"Body\"\n\n# Use the search() function to search for the pattern in the string\nresult = re.search(pattern, s1)\n\n# Check if a match was found\nif result:\n    print(\"Match found!\")\nelse:\n    print(\"Match not found.\")",
      "metadata": {
        "trusted": true
      },
      "outputs": [
        {
          "name": "stdout",
          "text": "Match found!\n",
          "output_type": "stream"
        }
      ],
      "execution_count": 11
    },
    {
      "id": "2d743343-0fcc-48cb-8543-55ebed19e17d",
      "cell_type": "markdown",
      "source": "Regular expressions (RegEx) are patterns used to match and manipulate strings of text. There are several special sequences in RegEx that can be used to match specific characters or patterns.\n\n| Special Sequence | Meaning                 | \tExample             |\n| -----------  | ----------------------- | ----------------------|\n| \\d|Matches any digit character (0-9)|\"123\" matches \"\\d\\d\\d\"|\n|\\D|Matches any non-digit character|\"hello\" matches \"\\D\\D\\D\\D\\D\"|\n|\\w|Matches any word character (a-z, A-Z, 0-9, and _)|\"hello_world\" matches \"\\w\\w\\w\\w\\w\\w\\w\\w\\w\\w\\w\"|\n|\\W|Matches any non-word character|\t\"@#$%\" matches \"\\W\\W\\W\\W\"|\n|\\s|Matches any whitespace character (space, tab, newline, etc.)|\"hello world\" matches \"\\w\\w\\w\\w\\w\\s\\w\\w\\w\\w\\w\"|\n|\\S|Matches any non-whitespace character|\"hello_world\" matches \"\\S\\S\\S\\S\\S\\S\\S\\S\\S\\S\\S\"|\n|\\b|Matches the boundary between a word character and a non-word character|\"cat\" matches \"\\bcat\\b\" in \"The cat sat on the mat\"|\n|\\B|Matches any position that is not a word boundary|\"cat\" matches \"\\Bcat\\B\" in \"category\" but not in \"The cat sat on the mat\"|\n",
      "metadata": {}
    },
    {
      "id": "ce31e84b-f2cf-4855-88b0-9b823f8f0856",
      "cell_type": "code",
      "source": "pattern = r\"\\d\\d\\d\\d\\d\\d\\d\\d\\d\\d\"  # Matches any ten consecutive digits\ntext = \"My Phone number is 1234567890\"\nmatch = re.search(pattern, text)\n\nif match:\n    print(\"Phone number found:\", match.group()) # .group() to retrieve the part of the string where the regular expression pattern matched.\nelse:\n    print(\"No match\")",
      "metadata": {
        "trusted": true
      },
      "outputs": [
        {
          "name": "stdout",
          "text": "Phone number found: 1234567890\n",
          "output_type": "stream"
        }
      ],
      "execution_count": 12
    },
    {
      "id": "49a6ab94-2831-4fa3-abd9-13b0783b836e",
      "cell_type": "code",
      "source": "pattern = r\"\\W\"  # Matches any non-word character\ntext = \"Hello, world!\"\nmatches = re.findall(pattern, text) # findall() function finds all occurrences of a specified pattern within a string.\n\nprint(\"Matches:\", matches)",
      "metadata": {
        "trusted": true
      },
      "outputs": [
        {
          "name": "stdout",
          "text": "Matches: [',', ' ', '!']\n",
          "output_type": "stream"
        }
      ],
      "execution_count": 13
    },
    {
      "id": "086e5247-5d0e-4a32-bffe-47991882fa04",
      "cell_type": "code",
      "source": "s2 = \"The BodyGuard is the best album of 'Whitney Houston'.\"\n\n\n# Use the findall() function to find all occurrences of the \"st\" in the string\nresult = re.findall(\"st\", s2)\n\n# Print out the list of matched words\nprint(result)",
      "metadata": {
        "trusted": true
      },
      "outputs": [
        {
          "name": "stdout",
          "text": "['st', 'st']\n",
          "output_type": "stream"
        }
      ],
      "execution_count": 14
    },
    {
      "id": "61f100f1-bace-49e0-b9d7-9f17c6ae28c8",
      "cell_type": "code",
      "source": "# Use the split function to split the string by the \"\\s\"\nsplit_array = re.split(r\"\\s\", s2)\n\n# The split_array contains all the substrings, split by whitespace characters\nprint(split_array)",
      "metadata": {
        "trusted": true
      },
      "outputs": [
        {
          "name": "stdout",
          "text": "['The', 'BodyGuard', 'is', 'the', 'best', 'album', 'of', \"'Whitney\", \"Houston'.\"]\n",
          "output_type": "stream"
        }
      ],
      "execution_count": 15
    },
    {
      "id": "c393ba72-c9bb-45cb-844a-97642a37d7c9",
      "cell_type": "markdown",
      "source": "re.split: This function splits a string by the occurrences of a pattern.\n- r\"\\s\": This is a regular expression pattern that matches any whitespace character (spaces, tabs, newlines, etc.).\n- s2: This is the string that you want to split.",
      "metadata": {}
    },
    {
      "id": "2383c5d8-317e-404d-a5df-d76d10bcfa18",
      "cell_type": "code",
      "source": "# Define the regular expression pattern to search for\npattern = r\"Whitney Houston\"\n\n# Define the replacement string\nreplacement = \"legend\"\n\n# Use the sub function to replace the pattern with the replacement string\nnew_string = re.sub(pattern, replacement, s2, flags=re.IGNORECASE)\n\n# The new_string contains the original string with the pattern replaced by the replacement string\nprint(new_string) ",
      "metadata": {
        "trusted": true
      },
      "outputs": [
        {
          "name": "stdout",
          "text": "The BodyGuard is the best album of 'legend'.\n",
          "output_type": "stream"
        }
      ],
      "execution_count": 16
    },
    {
      "id": "96fb260b-2506-4c26-bd3d-9ab2087abd9e",
      "cell_type": "code",
      "source": "# Write your code below and press Shift+Enter to execute\nprint(\"\\\\\") # 1 slash\n# print(\"\\\\\\\") # Error, cannot keep odd\nprint(\"\\\\\\\\\") # 2 slashes\nprint(r\"\\\\\") # 2 slashes\nprint(\"\\\\\\\\\\\\\\\\\\\\\\\\\\\\\")",
      "metadata": {
        "trusted": true
      },
      "outputs": [
        {
          "name": "stdout",
          "text": "\\\n\\\\\n\\\\\n\\\\\\\\\\\\\\\n",
          "output_type": "stream"
        }
      ],
      "execution_count": 17
    },
    {
      "id": "1a969174-a1ad-4ac2-a65a-ecf758e82236",
      "cell_type": "code",
      "source": "",
      "metadata": {
        "trusted": true
      },
      "outputs": [],
      "execution_count": null
    },
    {
      "id": "15d0cd63-9f3c-4a98-b626-f917db1c885b",
      "cell_type": "code",
      "source": "",
      "metadata": {
        "trusted": true
      },
      "outputs": [],
      "execution_count": null
    },
    {
      "id": "cf949559-f662-411f-9d69-6a5e425af563",
      "cell_type": "code",
      "source": "g = \"Mary had a little lamb Little lamb, little lamb Mary had a little lamb \\\nIts fleece was white as snow And everywhere that Mary went Mary went, Mary went \\\nEverywhere that Mary went The lamb was sure to go\"\ng.find(\"snow\")",
      "metadata": {
        "trusted": true
      },
      "outputs": [
        {
          "execution_count": 18,
          "output_type": "execute_result",
          "data": {
            "text/plain": "95"
          },
          "metadata": {}
        }
      ],
      "execution_count": 18
    },
    {
      "id": "ea6dda28-f1e6-42e2-8177-0edea72cf74f",
      "cell_type": "code",
      "source": "g.replace(\"Mary\", \"Bob\")",
      "metadata": {
        "trusted": true
      },
      "outputs": [
        {
          "execution_count": 19,
          "output_type": "execute_result",
          "data": {
            "text/plain": "'Bob had a little lamb Little lamb, little lamb Bob had a little lamb Its fleece was white as snow And everywhere that Bob went Bob went, Bob went Everywhere that Bob went The lamb was sure to go'"
          },
          "metadata": {}
        }
      ],
      "execution_count": 19
    },
    {
      "id": "5ce97a8a-0e7f-409a-aef4-60d677aed241",
      "cell_type": "code",
      "source": "g.replace(',','.') # replace the sub-string , with .",
      "metadata": {
        "trusted": true
      },
      "outputs": [
        {
          "execution_count": 20,
          "output_type": "execute_result",
          "data": {
            "text/plain": "'Mary had a little lamb Little lamb. little lamb Mary had a little lamb Its fleece was white as snow And everywhere that Mary went Mary went. Mary went Everywhere that Mary went The lamb was sure to go'"
          },
          "metadata": {}
        }
      ],
      "execution_count": 20
    },
    {
      "id": "d6faeac7-7acb-4e87-98a3-fa78fc962b51",
      "cell_type": "code",
      "source": "g.split()",
      "metadata": {
        "trusted": true,
        "scrolled": true
      },
      "outputs": [
        {
          "execution_count": 21,
          "output_type": "execute_result",
          "data": {
            "text/plain": "['Mary',\n 'had',\n 'a',\n 'little',\n 'lamb',\n 'Little',\n 'lamb,',\n 'little',\n 'lamb',\n 'Mary',\n 'had',\n 'a',\n 'little',\n 'lamb',\n 'Its',\n 'fleece',\n 'was',\n 'white',\n 'as',\n 'snow',\n 'And',\n 'everywhere',\n 'that',\n 'Mary',\n 'went',\n 'Mary',\n 'went,',\n 'Mary',\n 'went',\n 'Everywhere',\n 'that',\n 'Mary',\n 'went',\n 'The',\n 'lamb',\n 'was',\n 'sure',\n 'to',\n 'go']"
          },
          "metadata": {}
        }
      ],
      "execution_count": 21
    },
    {
      "id": "e0620304-2e10-44ff-8e8b-a2fa734438e0",
      "cell_type": "code",
      "source": "# In the string s3, find whether the digit is present or not using the \\d and search() function:\ns3 = \"House number- 1105\"\n\n# Use the search() function to search for the \"\\d\" in the string\nresult = re.search(r\"\\d\", s3)\n\n# Check if a match was found\nif result:\n    print(\"Digit found\")\nelse:\n    print(\"Digit not found.\")",
      "metadata": {
        "trusted": true
      },
      "outputs": [
        {
          "name": "stdout",
          "text": "Digit found\n",
          "output_type": "stream"
        }
      ],
      "execution_count": 22
    },
    {
      "id": "aa9a2c10-f9c1-447a-b485-a49667c55b47",
      "cell_type": "code",
      "source": "# In the string str1, replace the sub-string fox with bear using sub() function:\nstr1= \"The quick brown fox jumps over the lazy dog.\"\n\n# Use re.sub() to replace \"fox\" with \"bear\"\nnew_str1 = re.sub(r\"fox\", \"bear\", str1)\n\nprint(new_str1)",
      "metadata": {
        "trusted": true
      },
      "outputs": [
        {
          "name": "stdout",
          "text": "The quick brown bear jumps over the lazy dog.\n",
          "output_type": "stream"
        }
      ],
      "execution_count": 23
    },
    {
      "id": "04369c98-86ec-40b7-b613-882d30b1b520",
      "cell_type": "code",
      "source": "# In the string str2 find all the occurrences of woo using findall() function:\nstr2= \"How much wood would a woodchuck chuck, if a woodchuck could chuck wood?\"\n\n# Use re.findall() to find all occurrences of \"woo\"\nmatches = re.findall(r\"woo\", str2)\n\nprint(matches)",
      "metadata": {
        "trusted": true
      },
      "outputs": [
        {
          "name": "stdout",
          "text": "['woo', 'woo', 'woo', 'woo']\n",
          "output_type": "stream"
        }
      ],
      "execution_count": 24
    },
    {
      "id": "9732687c-48d7-449b-8dca-1415b102d92b",
      "cell_type": "code",
      "source": "",
      "metadata": {
        "trusted": true
      },
      "outputs": [],
      "execution_count": null
    }
  ]
}