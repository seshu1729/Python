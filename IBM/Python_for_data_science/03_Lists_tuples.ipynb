{
  "metadata": {
    "kernelspec": {
      "name": "python",
      "display_name": "Python (Pyodide)",
      "language": "python"
    },
    "language_info": {
      "codemirror_mode": {
        "name": "python",
        "version": 3
      },
      "file_extension": ".py",
      "mimetype": "text/x-python",
      "name": "python",
      "nbconvert_exporter": "python",
      "pygments_lexer": "ipython3",
      "version": "3.8"
    }
  },
  "nbformat_minor": 5,
  "nbformat": 4,
  "cells": [
    {
      "id": "7c1fa2aa-4796-4bb2-847a-1a533afb1750",
      "cell_type": "code",
      "source": "# Create a tuple  (0,1,2,3)  and assign it to variable A\nA = (0,1,2,3)\nprint(A)",
      "metadata": {
        "trusted": true
      },
      "outputs": [
        {
          "name": "stdout",
          "text": "(0, 1, 2, 3)\n",
          "output_type": "stream"
        }
      ],
      "execution_count": 1
    },
    {
      "id": "e29eca83-50cc-495f-bf48-e8be1939da60",
      "cell_type": "code",
      "source": "# Find the first two elements of tuple  A\nA[0:2]",
      "metadata": {
        "tags": [],
        "trusted": true
      },
      "outputs": [
        {
          "execution_count": 2,
          "output_type": "execute_result",
          "data": {
            "text/plain": "(0, 1)"
          },
          "metadata": {}
        }
      ],
      "execution_count": 2
    },
    {
      "id": "7dca2e15-ab06-4fda-9291-b1f822f98c4a",
      "cell_type": "code",
      "source": "A[-1]",
      "metadata": {
        "tags": [],
        "trusted": true
      },
      "outputs": [
        {
          "execution_count": 3,
          "output_type": "execute_result",
          "data": {
            "text/plain": "3"
          },
          "metadata": {}
        }
      ],
      "execution_count": 3
    },
    {
      "id": "cb156b62-8f2e-4ab2-a8de-e06d3ca39a95",
      "cell_type": "code",
      "source": "A[3]",
      "metadata": {
        "tags": [],
        "trusted": true
      },
      "outputs": [
        {
          "execution_count": 4,
          "output_type": "execute_result",
          "data": {
            "text/plain": "3"
          },
          "metadata": {}
        }
      ],
      "execution_count": 4
    },
    {
      "id": "235e5a47-e429-42e9-a45d-f5cd5b34de4f",
      "cell_type": "code",
      "source": "B = [\"a\", \"b\", \"c\"]",
      "metadata": {
        "tags": [],
        "trusted": true
      },
      "outputs": [],
      "execution_count": 5
    },
    {
      "id": "0beff9ba-d5ea-4058-bd3d-e750f412ab15",
      "cell_type": "code",
      "source": "# Find the first two elements of the list  B:\nB[0:2]",
      "metadata": {
        "tags": [],
        "trusted": true
      },
      "outputs": [
        {
          "execution_count": 6,
          "output_type": "execute_result",
          "data": {
            "text/plain": "['a', 'b']"
          },
          "metadata": {}
        }
      ],
      "execution_count": 6
    },
    {
      "id": "3b8702d0-298a-4cfc-8f12-b103ec53f066",
      "cell_type": "code",
      "source": "# Change the first element of the list to an uppercase \"A\".\nB[0] = 'A'\nprint(B)",
      "metadata": {
        "tags": [],
        "trusted": true
      },
      "outputs": [
        {
          "name": "stdout",
          "text": "['A', 'b', 'c']\n",
          "output_type": "stream"
        }
      ],
      "execution_count": 7
    },
    {
      "id": "32205a6b-9a31-4824-a814-34cb3c4ef4e9",
      "cell_type": "code",
      "source": "# Create tuple with string, integer and float.\ntuple1 = (\"disco\",10,1.2 )\ntuple1",
      "metadata": {
        "trusted": true
      },
      "outputs": [
        {
          "execution_count": 8,
          "output_type": "execute_result",
          "data": {
            "text/plain": "('disco', 10, 1.2)"
          },
          "metadata": {}
        }
      ],
      "execution_count": 8
    },
    {
      "id": "8a27ca98-23f5-4e09-9f39-38a137f8413d",
      "cell_type": "code",
      "source": "# Print the type of the tuple you created\ntype(tuple1)",
      "metadata": {
        "trusted": true
      },
      "outputs": [
        {
          "execution_count": 9,
          "output_type": "execute_result",
          "data": {
            "text/plain": "tuple"
          },
          "metadata": {}
        }
      ],
      "execution_count": 9
    },
    {
      "id": "a398ae43-6dc1-4354-989a-26dea77ce3b7",
      "cell_type": "code",
      "source": "# Print the variable on each index\nprint(tuple1[0])\nprint(tuple1[1])\nprint(tuple1[2])",
      "metadata": {
        "trusted": true
      },
      "outputs": [
        {
          "name": "stdout",
          "text": "disco\n10\n1.2\n",
          "output_type": "stream"
        }
      ],
      "execution_count": 10
    },
    {
      "id": "a98ddb19-d81f-465c-9d72-e42d0643dbda",
      "cell_type": "code",
      "source": "# Print the type of value on each index\nprint(type(tuple1[0]))\nprint(type(tuple1[1]))\nprint(type(tuple1[2]))",
      "metadata": {
        "trusted": true
      },
      "outputs": [
        {
          "name": "stdout",
          "text": "<class 'str'>\n<class 'int'>\n<class 'float'>\n",
          "output_type": "stream"
        }
      ],
      "execution_count": 11
    },
    {
      "id": "71442df4-c4fb-4f2b-a223-50202b8416ff",
      "cell_type": "code",
      "source": "# Use negative index to get the value of the last element\nprint(tuple1[-1])\n# Use negative index to get the value of the second last element\nprint(tuple1[-2])\n# Use negative index to get the value of the third last element\nprint(tuple1[-3])",
      "metadata": {
        "trusted": true
      },
      "outputs": [
        {
          "name": "stdout",
          "text": "1.2\n10\ndisco\n",
          "output_type": "stream"
        }
      ],
      "execution_count": 12
    },
    {
      "id": "1303cc9f-4614-4ecd-b75f-e3d059169ee6",
      "cell_type": "code",
      "source": "# concatenate or combine tuples by using the + sign\ntuple2 = tuple1 + (\"hard rock\", 10)\ntuple2",
      "metadata": {
        "trusted": true
      },
      "outputs": [
        {
          "execution_count": 13,
          "output_type": "execute_result",
          "data": {
            "text/plain": "('disco', 10, 1.2, 'hard rock', 10)"
          },
          "metadata": {}
        }
      ],
      "execution_count": 13
    },
    {
      "id": "79596082-16da-4d74-9ace-00de33a08e4b",
      "cell_type": "code",
      "source": "# Slice from index 0 to index 2\ntuple2[0:3]",
      "metadata": {
        "trusted": true
      },
      "outputs": [
        {
          "execution_count": 14,
          "output_type": "execute_result",
          "data": {
            "text/plain": "('disco', 10, 1.2)"
          },
          "metadata": {}
        }
      ],
      "execution_count": 14
    },
    {
      "id": "9c72b9a2-6762-456e-8c94-8ef0f7ca5b78",
      "cell_type": "code",
      "source": "# Slice from index 3 to index 4=\ntuple2[3:5]",
      "metadata": {
        "trusted": true
      },
      "outputs": [
        {
          "execution_count": 15,
          "output_type": "execute_result",
          "data": {
            "text/plain": "('hard rock', 10)"
          },
          "metadata": {}
        }
      ],
      "execution_count": 15
    },
    {
      "id": "e75b6e7e-e11c-426e-a4f0-f27d99b9a331",
      "cell_type": "code",
      "source": "# Get the length of tuple\nlen(tuple2)",
      "metadata": {
        "trusted": true
      },
      "outputs": [
        {
          "execution_count": 16,
          "output_type": "execute_result",
          "data": {
            "text/plain": "5"
          },
          "metadata": {}
        }
      ],
      "execution_count": 16
    },
    {
      "id": "f25353a2-286d-4334-8601-1771cf51514d",
      "cell_type": "code",
      "source": "# A sample tuple\nRatings = (0, 9, 6, 5, 10, 8, 9, 6, 2)\n\n# Sort the tuple\nRatingsSorted = sorted(Ratings)\nRatingsSorted",
      "metadata": {
        "trusted": true
      },
      "outputs": [
        {
          "execution_count": 17,
          "output_type": "execute_result",
          "data": {
            "text/plain": "[0, 2, 5, 6, 6, 8, 9, 9, 10]"
          },
          "metadata": {}
        }
      ],
      "execution_count": 17
    },
    {
      "id": "cdd63aa7-b790-4938-a24e-7a75150bd54f",
      "cell_type": "code",
      "source": "# Create a nest tuple\nNestedT =(1, 2, (\"pop\", \"rock\") ,(3,4),(\"disco\",(1,2)))\n\n# Print element on each index\nprint(\"Element 0 of Tuple: \", NestedT[0])\nprint(\"Element 1 of Tuple: \", NestedT[1])\nprint(\"Element 2 of Tuple: \", NestedT[2])\nprint(\"Element 3 of Tuple: \", NestedT[3])\nprint(\"Element 4 of Tuple: \", NestedT[4])",
      "metadata": {
        "trusted": true
      },
      "outputs": [
        {
          "name": "stdout",
          "text": "Element 0 of Tuple:  1\nElement 1 of Tuple:  2\nElement 2 of Tuple:  ('pop', 'rock')\nElement 3 of Tuple:  (3, 4)\nElement 4 of Tuple:  ('disco', (1, 2))\n",
          "output_type": "stream"
        }
      ],
      "execution_count": 18
    },
    {
      "id": "e1f6ea43-6ab3-4dd7-9a94-965192f2be05",
      "cell_type": "code",
      "source": "# Print element on each index, including nest indexes\nprint(\"Element 2, 0 of Tuple: \",   NestedT[2][0])\nprint(\"Element 2, 1 of Tuple: \",   NestedT[2][1])\nprint(\"Element 3, 0 of Tuple: \",   NestedT[3][0])\nprint(\"Element 3, 1 of Tuple: \",   NestedT[3][1])\nprint(\"Element 4, 0 of Tuple: \",   NestedT[4][0])\nprint(\"Element 4, 1 of Tuple: \",   NestedT[4][1])",
      "metadata": {
        "trusted": true
      },
      "outputs": [
        {
          "name": "stdout",
          "text": "Element 2, 0 of Tuple:  pop\nElement 2, 1 of Tuple:  rock\nElement 3, 0 of Tuple:  3\nElement 3, 1 of Tuple:  4\nElement 4, 0 of Tuple:  disco\nElement 4, 1 of Tuple:  (1, 2)\n",
          "output_type": "stream"
        }
      ],
      "execution_count": 19
    },
    {
      "id": "cbe06bf5-903d-4a00-b047-93b728821279",
      "cell_type": "code",
      "source": "# Print the first element in the second nested tuples\nNestedT[2][1][0]",
      "metadata": {
        "trusted": true
      },
      "outputs": [
        {
          "execution_count": 20,
          "output_type": "execute_result",
          "data": {
            "text/plain": "'r'"
          },
          "metadata": {}
        }
      ],
      "execution_count": 20
    },
    {
      "id": "ed0ddaf9-10b7-49e6-ba3b-1cfbffdbe78f",
      "cell_type": "code",
      "source": "# Print the second element in the second nested tuples\nNestedT[2][1][1]",
      "metadata": {
        "trusted": true
      },
      "outputs": [
        {
          "execution_count": 21,
          "output_type": "execute_result",
          "data": {
            "text/plain": "'o'"
          },
          "metadata": {}
        }
      ],
      "execution_count": 21
    },
    {
      "id": "4006d9c6-e29c-443c-8290-8ac587891173",
      "cell_type": "code",
      "source": "# sample tuple\ngenres_tuple = (\"pop\", \"rock\", \"soul\", \"hard rock\", \"soft rock\", \\\n                \"R&B\", \"progressive rock\", \"disco\") \ngenres_tuple",
      "metadata": {
        "trusted": true
      },
      "outputs": [
        {
          "execution_count": 22,
          "output_type": "execute_result",
          "data": {
            "text/plain": "('pop',\n 'rock',\n 'soul',\n 'hard rock',\n 'soft rock',\n 'R&B',\n 'progressive rock',\n 'disco')"
          },
          "metadata": {}
        }
      ],
      "execution_count": 22
    },
    {
      "id": "e844bde7-9cde-404e-926f-b4cf90221b61",
      "cell_type": "code",
      "source": "# Find the length of the tuple, genres_tuple:\nlen(genres_tuple)",
      "metadata": {
        "trusted": true
      },
      "outputs": [
        {
          "execution_count": 23,
          "output_type": "execute_result",
          "data": {
            "text/plain": "8"
          },
          "metadata": {}
        }
      ],
      "execution_count": 23
    },
    {
      "id": "4e22b813-1e72-4643-a403-e7319823ee84",
      "cell_type": "code",
      "source": "# Access the element, with respect to index 3:\ngenres_tuple[3]",
      "metadata": {
        "trusted": true
      },
      "outputs": [
        {
          "execution_count": 24,
          "output_type": "execute_result",
          "data": {
            "text/plain": "'hard rock'"
          },
          "metadata": {}
        }
      ],
      "execution_count": 24
    },
    {
      "id": "a0a42126-f33c-445b-9899-06a8e4793eda",
      "cell_type": "code",
      "source": "# Use slicing to obtain indexes 3, 4 and 5\ngenres_tuple[3:6]",
      "metadata": {
        "trusted": true
      },
      "outputs": [
        {
          "execution_count": 25,
          "output_type": "execute_result",
          "data": {
            "text/plain": "('hard rock', 'soft rock', 'R&B')"
          },
          "metadata": {}
        }
      ],
      "execution_count": 25
    },
    {
      "id": "2f670599-20d8-494a-bfd9-4b48e24a3306",
      "cell_type": "code",
      "source": "# first two elements of the tuple genres_tuple\ngenres_tuple[0:2]",
      "metadata": {
        "trusted": true
      },
      "outputs": [
        {
          "execution_count": 26,
          "output_type": "execute_result",
          "data": {
            "text/plain": "('pop', 'rock')"
          },
          "metadata": {}
        }
      ],
      "execution_count": 26
    },
    {
      "id": "34393bf2-ba75-48ad-91a6-65894959d1d7",
      "cell_type": "code",
      "source": "# Find the index of 's' in \"disco\"\n\"disco\".find('s')",
      "metadata": {
        "trusted": true
      },
      "outputs": [
        {
          "execution_count": 27,
          "output_type": "execute_result",
          "data": {
            "text/plain": "2"
          },
          "metadata": {}
        }
      ],
      "execution_count": 27
    },
    {
      "id": "d13fd513-fde7-453f-a4d3-279b4c4cb487",
      "cell_type": "code",
      "source": "# Generate a sorted List from the Tuple C_tuple=(-5, 1, -3)\nC_tuple = (-5, 1, -3)\nC_list = sorted(C_tuple)\nC_list",
      "metadata": {
        "trusted": true
      },
      "outputs": [
        {
          "execution_count": 28,
          "output_type": "execute_result",
          "data": {
            "text/plain": "[-5, -3, 1]"
          },
          "metadata": {}
        }
      ],
      "execution_count": 28
    },
    {
      "id": "61fe1ac7-b2c8-43c8-9604-3c3df697b1d1",
      "cell_type": "code",
      "source": "",
      "metadata": {
        "trusted": true
      },
      "outputs": [],
      "execution_count": null
    },
    {
      "id": "6a8a6995-23fb-46c6-a765-c0ad2fb96ea1",
      "cell_type": "markdown",
      "source": "# Lists",
      "metadata": {}
    },
    {
      "id": "3fbe0c51-0728-4c0d-ab57-d3d77f664c00",
      "cell_type": "code",
      "source": "# Create a list\n\nL = [\"The Bodyguard\", 7.0, 1992]\nL",
      "metadata": {
        "trusted": true
      },
      "outputs": [
        {
          "execution_count": 1,
          "output_type": "execute_result",
          "data": {
            "text/plain": "['The Bodyguard', 7.0, 1992]"
          },
          "metadata": {}
        }
      ],
      "execution_count": 1
    },
    {
      "id": "7f74bf9f-9fe3-43c9-ba6d-cc60c0efebf8",
      "cell_type": "code",
      "source": "# Print the elements on each index\n\nprint('the same element using negative and positive indexing:\\n Postive:',L[0],\n'\\n Negative:' , L[-3]  )\nprint('the same element using negative and positive indexing:\\n Postive:',L[1],\n'\\n Negative:' , L[-2]  )\nprint('the same element using negative and positive indexing:\\n Postive:',L[2],\n'\\n Negative:' , L[-1]  )",
      "metadata": {
        "trusted": true
      },
      "outputs": [
        {
          "name": "stdout",
          "text": "the same element using negative and positive indexing:\n Postive: The Bodyguard \n Negative: The Bodyguard\nthe same element using negative and positive indexing:\n Postive: 7.0 \n Negative: 7.0\nthe same element using negative and positive indexing:\n Postive: 1992 \n Negative: 1992\n",
          "output_type": "stream"
        }
      ],
      "execution_count": 2
    },
    {
      "id": "2bb0e5e6-3036-4fce-9bc8-1ab38d6397ac",
      "cell_type": "code",
      "source": "# Sample List\nL = [\"The Bodyguard\", 7.0,1992,\"BG\",1]\nL",
      "metadata": {
        "trusted": true
      },
      "outputs": [
        {
          "execution_count": 3,
          "output_type": "execute_result",
          "data": {
            "text/plain": "['The Bodyguard', 7.0, 1992, 'BG', 1]"
          },
          "metadata": {}
        }
      ],
      "execution_count": 3
    },
    {
      "id": "7beb0b5a-a758-45a7-bb39-0bfa8b1edbd9",
      "cell_type": "code",
      "source": "# List slicing\nL[3:5]",
      "metadata": {
        "trusted": true
      },
      "outputs": [
        {
          "execution_count": 4,
          "output_type": "execute_result",
          "data": {
            "text/plain": "['BG', 1]"
          },
          "metadata": {}
        }
      ],
      "execution_count": 4
    },
    {
      "id": "56e1b355-4b5e-4b8e-bc4d-aaa7af92d587",
      "cell_type": "code",
      "source": "# Use extend to add elements to list\nL = [ \"The Bodyguard\", 7.0]\nL.extend(['pop', 10])\nL",
      "metadata": {
        "trusted": true
      },
      "outputs": [
        {
          "execution_count": 5,
          "output_type": "execute_result",
          "data": {
            "text/plain": "['The Bodyguard', 7.0, 'pop', 10]"
          },
          "metadata": {}
        }
      ],
      "execution_count": 5
    },
    {
      "id": "d6e025bc-deec-4db0-a537-cef1da9bac2f",
      "cell_type": "code",
      "source": "# Use append to add elements to list\nL = [ \"The Bodyguard\", 7.0]\nL.append(['pop', 10])\nL",
      "metadata": {
        "trusted": true
      },
      "outputs": [
        {
          "execution_count": 6,
          "output_type": "execute_result",
          "data": {
            "text/plain": "['The Bodyguard', 7.0, ['pop', 10]]"
          },
          "metadata": {}
        }
      ],
      "execution_count": 6
    },
    {
      "id": "e6b35c90-a4e3-44a7-85f9-7f561a0e7581",
      "cell_type": "code",
      "source": "# Use append to add elements to list\n\nL.append(['a','b'])\nL",
      "metadata": {
        "trusted": true
      },
      "outputs": [
        {
          "execution_count": 8,
          "output_type": "execute_result",
          "data": {
            "text/plain": "['The Bodyguard', 7.0, 'pop', 10, ['a', 'b']]"
          },
          "metadata": {}
        }
      ],
      "execution_count": 8
    },
    {
      "id": "2f32bf10-32c6-47bb-8721-d7e4c64e908f",
      "cell_type": "code",
      "source": "# Change the element based on the index\n\nA = [\"disco\", 10, 1.2]\nprint('Before change:', A)\nA[0] = 'hard rock'\nprint('After change:', A)",
      "metadata": {
        "trusted": true
      },
      "outputs": [
        {
          "name": "stdout",
          "text": "Before change: ['disco', 10, 1.2]\nAfter change: ['hard rock', 10, 1.2]\n",
          "output_type": "stream"
        }
      ],
      "execution_count": 9
    },
    {
      "id": "2e1d02d5-54b4-4da6-9426-aac6467debc8",
      "cell_type": "code",
      "source": "# Delete the element based on the index\n\nprint('Before change:', A)\ndel(A[0])\nprint('After change:', A)",
      "metadata": {
        "trusted": true
      },
      "outputs": [
        {
          "name": "stdout",
          "text": "Before change: ['hard rock', 10, 1.2]\nAfter change: [10, 1.2]\n",
          "output_type": "stream"
        }
      ],
      "execution_count": 10
    },
    {
      "id": "5edf26db-4d6b-418a-9dab-363b773ca5d3",
      "cell_type": "code",
      "source": "# Split the string, default is by space\n\n'hard rock'.split()",
      "metadata": {
        "trusted": true
      },
      "outputs": [
        {
          "execution_count": 11,
          "output_type": "execute_result",
          "data": {
            "text/plain": "['hard', 'rock']"
          },
          "metadata": {}
        }
      ],
      "execution_count": 11
    },
    {
      "id": "55959c72-68a7-440c-acf6-1bf361867b96",
      "cell_type": "code",
      "source": "# Split the string by comma. split function to separate strings on a specific character which we call a delimiter.\n\n'A,B,C,D'.split(',')",
      "metadata": {
        "trusted": true
      },
      "outputs": [
        {
          "execution_count": 12,
          "output_type": "execute_result",
          "data": {
            "text/plain": "['A', 'B', 'C', 'D']"
          },
          "metadata": {}
        }
      ],
      "execution_count": 12
    },
    {
      "id": "34af1832-79b8-4aee-9b37-9e81e51e9d7f",
      "cell_type": "code",
      "source": "# Copy (copy by reference) the list A\n\nA = [\"hard rock\", 10, 1.2]\nB = A\nprint('A:', A)\nprint('B:', B)\n\n# Examine the copy by reference\n\nprint('B[0]:', B[0])\nA[0] = \"banana\"\nprint('B[0]:', B[0])",
      "metadata": {
        "trusted": true
      },
      "outputs": [
        {
          "name": "stdout",
          "text": "A: ['hard rock', 10, 1.2]\nB: ['hard rock', 10, 1.2]\nB[0]: hard rock\nB[0]: banana\n",
          "output_type": "stream"
        }
      ],
      "execution_count": 14
    },
    {
      "id": "98ac74df-1b78-4a82-b05c-b20d1e96e022",
      "cell_type": "code",
      "source": "# Clone (clone by value) the list A\n\nB = A[:]\nprint(B)\n\nprint('B[0]:', B[0])\nA[0] = \"hard rock\"\nprint('B[0]:', B[0])",
      "metadata": {
        "trusted": true
      },
      "outputs": [
        {
          "name": "stdout",
          "text": "['banana', 10, 1.2]\nB[0]: banana\nB[0]: banana\n",
          "output_type": "stream"
        }
      ],
      "execution_count": 15
    },
    {
      "id": "9a826ed7-5790-4bd5-a2e8-04027c460b24",
      "cell_type": "code",
      "source": "a_list = [1, 'hello', [1, 2, 3] , True]\na_list",
      "metadata": {
        "trusted": true
      },
      "outputs": [
        {
          "execution_count": 17,
          "output_type": "execute_result",
          "data": {
            "text/plain": "[1, 'hello', [1, 2, 3], True]"
          },
          "metadata": {}
        }
      ],
      "execution_count": 17
    },
    {
      "id": "881cfaac-f152-46c8-bf01-b37fe64e4584",
      "cell_type": "code",
      "source": "a_list[1]",
      "metadata": {
        "trusted": true
      },
      "outputs": [
        {
          "execution_count": 18,
          "output_type": "execute_result",
          "data": {
            "text/plain": "'hello'"
          },
          "metadata": {}
        }
      ],
      "execution_count": 18
    },
    {
      "id": "8460f305-42d3-4c64-923d-3d8f9f4b4d11",
      "cell_type": "code",
      "source": "a_list[1:4]",
      "metadata": {
        "trusted": true
      },
      "outputs": [
        {
          "execution_count": 19,
          "output_type": "execute_result",
          "data": {
            "text/plain": "['hello', [1, 2, 3], True]"
          },
          "metadata": {}
        }
      ],
      "execution_count": 19
    },
    {
      "id": "14b52d90-1220-444d-81a7-e3294e68eaab",
      "cell_type": "code",
      "source": "A = [1, 'a'] \nB = [2, 1, 'd']\nA + B",
      "metadata": {
        "trusted": true
      },
      "outputs": [
        {
          "execution_count": 20,
          "output_type": "execute_result",
          "data": {
            "text/plain": "[1, 'a', 2, 1, 'd']"
          },
          "metadata": {}
        }
      ],
      "execution_count": 20
    },
    {
      "id": "6b497d77-845e-4e6c-8497-6bc282b6d140",
      "cell_type": "code",
      "source": "# Scenario: Shopping list\n\nShopping_list=[]\nShopping_list=[\"Watch\",\"Laptop\",\"Shoes\",\"Pen\",\"Clothes\"]",
      "metadata": {
        "trusted": true
      },
      "outputs": [],
      "execution_count": 28
    },
    {
      "id": "258f5241-7ed8-4b91-8227-a6a7bbab66bf",
      "cell_type": "code",
      "source": "Shopping_list.append(\"Football\")",
      "metadata": {
        "trusted": true
      },
      "outputs": [],
      "execution_count": 29
    },
    {
      "id": "1c0f5cfa-6f2f-4673-a123-ee0ff69b94c5",
      "cell_type": "code",
      "source": "print(Shopping_list[0])\nprint(Shopping_list[-1])\nprint(Shopping_list)\nprint(Shopping_list[1:3])\nShopping_list[3] = \"Notebook\"",
      "metadata": {
        "trusted": true
      },
      "outputs": [
        {
          "name": "stdout",
          "text": "Watch\nFootball\n['Watch', 'Laptop', 'Shoes', 'Pen', 'Clothes', 'Football']\n['Laptop', 'Shoes']\n",
          "output_type": "stream"
        }
      ],
      "execution_count": 30
    },
    {
      "id": "f88ff1e3-7006-42af-a6de-c0e304c99d62",
      "cell_type": "code",
      "source": "del (Shopping_list[4])\nprint(Shopping_list)",
      "metadata": {
        "trusted": true
      },
      "outputs": [
        {
          "name": "stdout",
          "text": "['Watch', 'Laptop', 'Shoes', 'Notebook', 'Football']\n",
          "output_type": "stream"
        }
      ],
      "execution_count": 31
    },
    {
      "id": "f921c0c7-34ff-49b2-9b78-8a14d1f4a0eb",
      "cell_type": "code",
      "source": "",
      "metadata": {
        "trusted": true
      },
      "outputs": [],
      "execution_count": null
    }
  ]
}